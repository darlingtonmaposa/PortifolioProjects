{
 "cells": [
  {
   "cell_type": "code",
   "execution_count": 5,
   "id": "67650562",
   "metadata": {},
   "outputs": [],
   "source": [
    "import wntr"
   ]
  },
  {
   "cell_type": "code",
   "execution_count": 79,
   "id": "827f6d73",
   "metadata": {},
   "outputs": [],
   "source": [
    "wn = wntr.network.WaterNetworkModel()\n",
    "wn.add_pattern('pat1', [2,4,3,7,2,4,6])\n",
    "wn.add_pattern('pat2', [1,2,3,4,5,6,7,8,9,10])\n",
    "wn.add_pattern('pat3', [7,2,4,3,6,2,4])"
   ]
  },
  {
   "cell_type": "code",
   "execution_count": 80,
   "id": "932fa111",
   "metadata": {},
   "outputs": [],
   "source": [
    "wn.add_junction('nodex1', base_demand=0.01, demand_pattern='pat1', elevation=1100, coordinates=(4,8))\n",
    "wn.add_junction('nodex2', base_demand=0.02, demand_pattern='pat2', elevation=800, coordinates=(4.5,7))\n",
    "wn.add_junction('nodex3', base_demand=0.014, demand_pattern='pat1', elevation=1200, coordinates=(5.5,7))\n",
    "wn.add_junction('nodex4', base_demand=0.022, demand_pattern='pat3', elevation=1600, coordinates=(5,7.5))\n",
    "wn.add_junction('nodex5', base_demand=0.014, demand_pattern='pat1', elevation=1500, coordinates=(5.5,8.5))\n",
    "wn.add_junction('nodex6', base_demand=0.03, demand_pattern='pat2', elevation=1900, coordinates=(4.5,9))\n",
    "wn.add_junction('nodex7', base_demand=0.022, demand_pattern='pat2', elevation=1250, coordinates=(4.5,9.5))\n",
    "wn.add_junction('nodex8', base_demand=0.033, demand_pattern='pat3', elevation=1477, coordinates=(3.5,9.5))\n",
    "wn.add_junction('nodex9', base_demand=0.042, demand_pattern='pat1', elevation=2200, coordinates=(4,10))\n",
    "wn.add_junction('nodex10', base_demand=0.018, demand_pattern='pat2', elevation=2160, coordinates=(5.5,9.5))\n",
    "wn.add_junction('nodex11', base_demand=0.015, demand_pattern='pat1', elevation=1870, coordinates=(5.5,10.5))\n",
    "wn.add_junction('nodex12', base_demand=0.015, demand_pattern='pat1', elevation=1870, coordinates=(6.5,10))\n",
    "wn.add_junction('nodex13', base_demand=0.042, demand_pattern='pat1', elevation=2200, coordinates=(2,8))\n",
    "wn.add_junction('nodex14', base_demand=0.018, demand_pattern='pat2', elevation=2160, coordinates=(1.5,7))\n",
    "wn.add_junction('nodex15', base_demand=0.015, demand_pattern='pat1', elevation=1870, coordinates=(1.5,9))\n",
    "wn.add_junction('nodex16', base_demand=0.015, demand_pattern='pat1', elevation=1870, coordinates=(2.5,9))\n"
   ]
  },
  {
   "cell_type": "code",
   "execution_count": 81,
   "id": "584740d9",
   "metadata": {},
   "outputs": [],
   "source": [
    "wn.add_junction('nodey1', base_demand=0.01, demand_pattern='pat1', elevation=1100, coordinates=(4,5))\n",
    "wn.add_junction('nodey2', base_demand=0.02, demand_pattern='pat2', elevation=800, coordinates=(4,4))\n",
    "wn.add_junction('nodey3', base_demand=0.014, demand_pattern='pat1', elevation=1200, coordinates=(5,4))\n",
    "wn.add_junction('nodey4', base_demand=0.022, demand_pattern='pat3', elevation=1600, coordinates=(5.5,4.5))\n",
    "wn.add_junction('nodey5', base_demand=0.014, demand_pattern='pat1', elevation=1500, coordinates=(5.5,4.5))\n",
    "wn.add_junction('nodey6', base_demand=0.03, demand_pattern='pat2', elevation=1900, coordinates=(6.5,5))\n",
    "wn.add_junction('nodey7', base_demand=0.022, demand_pattern='pat2', elevation=1250, coordinates=(4,6))\n",
    "wn.add_junction('nodey8', base_demand=0.033, demand_pattern='pat3', elevation=1477, coordinates=(5,6.5))\n",
    "wn.add_junction('nodey9', base_demand=0.042, demand_pattern='pat1', elevation=2200, coordinates=(6,7))\n",
    "wn.add_junction('nodey10', base_demand=0.018, demand_pattern='pat2', elevation=2160, coordinates=(6.5,8))\n",
    "wn.add_junction('nodey11', base_demand=0.01, demand_pattern='pat1', elevation=1100, coordinates=(6.5,9))\n",
    "wn.add_junction('nodey12', base_demand=0.02, demand_pattern='pat2', elevation=800, coordinates=(7.5,9.5))\n",
    "wn.add_junction('nodey13', base_demand=0.014, demand_pattern='pat1', elevation=1200, coordinates=(7.5,8.5))\n",
    "wn.add_junction('nodey14', base_demand=0.022, demand_pattern='pat3', elevation=1600, coordinates=(7.5,7.5))\n",
    "wn.add_junction('nodey15', base_demand=0.014, demand_pattern='pat1', elevation=1500, coordinates=(6.5,6))\n",
    "wn.add_junction('nodey16', base_demand=0.03, demand_pattern='pat2', elevation=1900, coordinates=(7,6.5))\n",
    "wn.add_junction('nodey17', base_demand=0.022, demand_pattern='pat2', elevation=1250, coordinates=(7.5,5.5))\n",
    "wn.add_junction('nodey18', base_demand=0.033, demand_pattern='pat3', elevation=1477, coordinates=(8.5,6))\n",
    "wn.add_junction('nodey100', base_demand=0.033, demand_pattern='pat3', elevation=1477, coordinates=(4.5,5.5))\n"
   ]
  },
  {
   "cell_type": "code",
   "execution_count": 82,
   "id": "5ed28f24",
   "metadata": {},
   "outputs": [],
   "source": [
    "wn.add_junction('nodez1', base_demand=0.01, demand_pattern='pat1', elevation=1100, coordinates=(3,3))\n",
    "wn.add_junction('nodez2', base_demand=0.02, demand_pattern='pat2', elevation=800, coordinates=(4.5,2.5))\n",
    "wn.add_junction('nodez3', base_demand=0.014, demand_pattern='pat1', elevation=1200, coordinates=(6,3.5))\n",
    "wn.add_junction('nodez4', base_demand=0.022, demand_pattern='pat3', elevation=1600, coordinates=(6.5,3))\n",
    "wn.add_junction('nodez5', base_demand=0.014, demand_pattern='pat1', elevation=1500, coordinates=(7,4))\n",
    "wn.add_junction('nodez6', base_demand=0.03, demand_pattern='pat2', elevation=1900, coordinates=(8,4.5))\n",
    "wn.add_junction('nodez7', base_demand=0.022, demand_pattern='pat2', elevation=1250, coordinates=(6,2))\n",
    "wn.add_junction('nodez8', base_demand=0.033, demand_pattern='pat3', elevation=1477, coordinates=(7,2.5))\n",
    "wn.add_junction('nodez9', base_demand=0.042, demand_pattern='pat1', elevation=2200, coordinates=(7.5,3))\n",
    "wn.add_junction('nodez10', base_demand=0.018, demand_pattern='pat2', elevation=2160, coordinates=(8.5,3.5))\n",
    "wn.add_junction('nodez11', base_demand=0.01, demand_pattern='pat1', elevation=1100, coordinates=(8.5,2.5))\n",
    "wn.add_junction('nodez12', base_demand=0.02, demand_pattern='pat2', elevation=800, coordinates=(9,3))\n",
    "wn.add_junction('nodez13', base_demand=0.014, demand_pattern='pat1', elevation=1200, coordinates=(4,1))\n",
    "wn.add_junction('nodez14', base_demand=0.022, demand_pattern='pat3', elevation=1600, coordinates=(5.5,1.5))\n",
    "wn.add_junction('nodez15', base_demand=0.014, demand_pattern='pat1', elevation=1500, coordinates=(6.5,1.5))\n",
    "wn.add_junction('nodez16', base_demand=0.03, demand_pattern='pat2', elevation=1900, coordinates=(6,0))\n",
    "wn.add_junction('nodez17', base_demand=0.022, demand_pattern='pat2', elevation=1250, coordinates=(7,1))\n",
    "wn.add_junction('nodez18', base_demand=0.033, demand_pattern='pat3', elevation=1477, coordinates=(8,2))\n",
    "wn.add_junction('nodez19', base_demand=0.033, demand_pattern='pat3', elevation=1477, coordinates=(9,2))\n",
    "wn.add_junction('nodez20', base_demand=0.014, demand_pattern='pat1', elevation=1500, coordinates=(8.5,0))\n",
    "wn.add_junction('nodez21', base_demand=0.03, demand_pattern='pat2', elevation=1900, coordinates=(9,1.5))\n",
    "wn.add_junction('nodez22', base_demand=0.022, demand_pattern='pat2', elevation=1250, coordinates=(10,1))\n",
    "wn.add_junction('nodez23', base_demand=0.033, demand_pattern='pat3', elevation=1477, coordinates=(10,1))\n",
    "wn.add_junction('nodez24', base_demand=0.033, demand_pattern='pat3', elevation=1477, coordinates=(10,0))"
   ]
  },
  {
   "cell_type": "code",
   "execution_count": 83,
   "id": "38be5fa5",
   "metadata": {},
   "outputs": [],
   "source": [
    "wn.add_reservoir('res', base_head=125, head_pattern='pat1', coordinates=(2,6))"
   ]
  },
  {
   "cell_type": "code",
   "execution_count": 84,
   "id": "e2389ebe",
   "metadata": {},
   "outputs": [],
   "source": [
    "wn.add_pipe('pipex', 'nodex1', 'res', length=204.8, diameter=0.3048, roughness=100, minor_loss=0.0, initial_status='OPEN')\n",
    "wn.add_pipe('pipex2', 'nodex1', 'nodex2', length=60, diameter=0.3048, roughness=100,minor_loss=0.0, initial_status='OPEN')\n",
    "wn.add_pipe('pipex3', 'nodex2', 'nodex3', length=60, diameter=0.3048, roughness=100,minor_loss=0.0, initial_status='OPEN')\n",
    "wn.add_pipe('pipex4', 'nodex2', 'nodex4', length=60, diameter=0.3048, roughness=100,minor_loss=0.0, initial_status='OPEN')\n",
    "wn.add_pipe('pipex5', 'nodex1', 'nodex5', length=60, diameter=0.3048, roughness=100,minor_loss=0.0, initial_status='OPEN')\n",
    "wn.add_pipe('pipex6', 'nodex1', 'nodex6', length=60, diameter=0.3048, roughness=100,minor_loss=0.0, initial_status='OPEN')\n",
    "wn.add_pipe('pipex7', 'nodex6', 'nodex7', length=60, diameter=0.3048, roughness=100,minor_loss=0.0, initial_status='OPEN')\n",
    "wn.add_pipe('pipex8', 'nodex1', 'nodex8', length=60, diameter=0.3048, roughness=100,minor_loss=0.0, initial_status='OPEN')\n",
    "wn.add_pipe('pipex9', 'nodex8', 'nodex9', length=60, diameter=0.3048, roughness=100,minor_loss=0.0, initial_status='OPEN')\n",
    "wn.add_pipe('pipex10', 'nodex6', 'nodex10', length=60, diameter=0.3048, roughness=100,minor_loss=0.0, initial_status='OPEN')\n",
    "wn.add_pipe('pipex11', 'nodex10', 'nodex11', length=60, diameter=0.3048, roughness=100,minor_loss=0.0, initial_status='OPEN')\n",
    "wn.add_pipe('pipex12', 'nodex10', 'nodex12', length=60, diameter=0.3048, roughness=100,minor_loss=0.0, initial_status='OPEN')\n",
    "wn.add_pipe('pipex13', 'nodex1', 'nodex13', length=60, diameter=0.3048, roughness=100,minor_loss=0.0, initial_status='OPEN')\n",
    "wn.add_pipe('pipex14', 'nodex13', 'nodex14', length=60, diameter=0.3048, roughness=100,minor_loss=0.0, initial_status='OPEN')\n",
    "wn.add_pipe('pipex15', 'nodex13', 'nodex15', length=60, diameter=0.3048, roughness=100,minor_loss=0.0, initial_status='OPEN')\n",
    "wn.add_pipe('pipex16', 'nodex13', 'nodex16', length=60, diameter=0.3048, roughness=100,minor_loss=0.0, initial_status='OPEN')"
   ]
  },
  {
   "cell_type": "code",
   "execution_count": 85,
   "id": "4d8158cf",
   "metadata": {},
   "outputs": [],
   "source": [
    "wn.add_pipe('pipey', 'nodey1', 'res', length=204.8, diameter=0.3048, roughness=100, minor_loss=0.0, initial_status='OPEN')\n",
    "wn.add_pipe('pipey2', 'nodey1', 'nodey2', length=60, diameter=0.3048, roughness=100,minor_loss=0.0, initial_status='OPEN')\n",
    "wn.add_pipe('pipey3', 'nodey1', 'nodey3', length=60, diameter=0.3048, roughness=100,minor_loss=0.0, initial_status='OPEN')\n",
    "wn.add_pipe('pipey4', 'nodey3', 'nodey4', length=60, diameter=0.3048, roughness=100,minor_loss=0.0, initial_status='OPEN')\n",
    "wn.add_pipe('pipey5', 'nodey4', 'nodey5', length=60, diameter=0.3048, roughness=100,minor_loss=0.0, initial_status='OPEN')\n",
    "wn.add_pipe('pipey6', 'nodey100', 'nodey6', length=60, diameter=0.3048, roughness=100,minor_loss=0.0, initial_status='OPEN')\n",
    "wn.add_pipe('pipey7', 'nodey100', 'nodey7', length=60, diameter=0.3048, roughness=100,minor_loss=0.0, initial_status='OPEN')\n",
    "wn.add_pipe('pipey8', 'nodey100', 'nodey8', length=60, diameter=0.3048, roughness=100,minor_loss=0.0, initial_status='OPEN')\n",
    "wn.add_pipe('pipey9', 'nodey8', 'nodey9', length=60, diameter=0.3048, roughness=100,minor_loss=0.0, initial_status='OPEN')\n",
    "wn.add_pipe('pipey10', 'nodey9', 'nodey10', length=60, diameter=0.3048, roughness=100,minor_loss=0.0, initial_status='OPEN')\n",
    "wn.add_pipe('pipey11', 'nodey10', 'nodey11', length=60, diameter=0.3048, roughness=100,minor_loss=0.0, initial_status='OPEN')\n",
    "wn.add_pipe('pipey12', 'nodey11', 'nodey12', length=60, diameter=0.3048, roughness=100,minor_loss=0.0, initial_status='OPEN')\n",
    "wn.add_pipe('pipey13', 'nodey10', 'nodey13', length=60, diameter=0.3048, roughness=100,minor_loss=0.0, initial_status='OPEN')\n",
    "wn.add_pipe('pipey14', 'nodey9', 'nodey14', length=60, diameter=0.3048, roughness=100,minor_loss=0.0, initial_status='OPEN')\n",
    "wn.add_pipe('pipey15', 'nodey6', 'nodey15', length=60, diameter=0.3048, roughness=100,minor_loss=0.0, initial_status='OPEN')\n",
    "wn.add_pipe('pipey16', 'nodey15', 'nodey16', length=60, diameter=0.3048, roughness=100,minor_loss=0.0, initial_status='OPEN')\n",
    "wn.add_pipe('pipey17', 'nodey15', 'nodey17', length=60, diameter=0.3048, roughness=100,minor_loss=0.0, initial_status='OPEN')\n",
    "wn.add_pipe('pipey18', 'nodey17', 'nodey18', length=60, diameter=0.3048, roughness=100,minor_loss=0.0, initial_status='OPEN')\n",
    "wn.add_pipe('pipey100', 'nodey1', 'nodey100', length=60, diameter=0.3048, roughness=100,minor_loss=0.0, initial_status='OPEN')\n"
   ]
  },
  {
   "cell_type": "code",
   "execution_count": 86,
   "id": "63277d9f",
   "metadata": {},
   "outputs": [],
   "source": [
    "wn.add_pipe('pipez', 'nodez1', 'res', length=204.8, diameter=0.3048, roughness=100, minor_loss=0.0, initial_status='OPEN')\n",
    "wn.add_pipe('pipez2', 'nodez1', 'nodez2', length=60, diameter=0.3048, roughness=100,minor_loss=0.0, initial_status='OPEN')\n",
    "wn.add_pipe('pipez3', 'nodez2', 'nodez3', length=60, diameter=0.3048, roughness=100,minor_loss=0.0, initial_status='OPEN')\n",
    "wn.add_pipe('pipez4', 'nodez3', 'nodez4', length=60, diameter=0.3048, roughness=100,minor_loss=0.0, initial_status='OPEN')\n",
    "wn.add_pipe('pipez5', 'nodez3', 'nodez5', length=60, diameter=0.3048, roughness=100,minor_loss=0.0, initial_status='OPEN')\n",
    "wn.add_pipe('pipez6', 'nodez5', 'nodez6', length=60, diameter=0.3048, roughness=100,minor_loss=0.0, initial_status='OPEN')\n",
    "wn.add_pipe('pipez7', 'nodez2', 'nodez7', length=60, diameter=0.3048, roughness=100,minor_loss=0.0, initial_status='OPEN')\n",
    "wn.add_pipe('pipez8', 'nodez7', 'nodez8', length=60, diameter=0.3048, roughness=100,minor_loss=0.0, initial_status='OPEN')\n",
    "wn.add_pipe('pipez9', 'nodez8', 'nodez9', length=60, diameter=0.3048, roughness=100,minor_loss=0.0, initial_status='OPEN')\n",
    "wn.add_pipe('pipez10', 'nodez9', 'nodez10', length=60, diameter=0.3048, roughness=100,minor_loss=0.0, initial_status='OPEN')\n",
    "wn.add_pipe('pipez11', 'nodez8', 'nodez11', length=60, diameter=0.3048, roughness=100,minor_loss=0.0, initial_status='OPEN')\n",
    "wn.add_pipe('pipez12', 'nodez11', 'nodez12', length=60, diameter=0.3048, roughness=100,minor_loss=0.0, initial_status='OPEN')\n",
    "wn.add_pipe('pipez13', 'nodez1', 'nodez13', length=60, diameter=0.3048, roughness=100,minor_loss=0.0, initial_status='OPEN')\n",
    "wn.add_pipe('pipez14', 'nodez13', 'nodez14', length=60, diameter=0.3048, roughness=100,minor_loss=0.0, initial_status='OPEN')\n",
    "wn.add_pipe('pipez15', 'nodez14', 'nodez15', length=60, diameter=0.3048, roughness=100,minor_loss=0.0, initial_status='OPEN')\n",
    "wn.add_pipe('pipez16', 'nodez13', 'nodez16', length=60, diameter=0.3048, roughness=100,minor_loss=0.0, initial_status='OPEN')\n",
    "wn.add_pipe('pipez17', 'nodez16', 'nodez17', length=60, diameter=0.3048, roughness=100,minor_loss=0.0, initial_status='OPEN')\n",
    "wn.add_pipe('pipez18', 'nodez17', 'nodez18', length=60, diameter=0.3048, roughness=100,minor_loss=0.0, initial_status='OPEN')\n",
    "wn.add_pipe('pipez19', 'nodez18', 'nodez19', length=60, diameter=0.3048, roughness=100,minor_loss=0.0, initial_status='OPEN')\n",
    "wn.add_pipe('pipez20', 'nodez17', 'nodez20', length=60, diameter=0.3048, roughness=100,minor_loss=0.0, initial_status='OPEN')\n",
    "wn.add_pipe('pipez21', 'nodez20', 'nodez21', length=60, diameter=0.3048, roughness=100,minor_loss=0.0, initial_status='OPEN')\n",
    "wn.add_pipe('pipez22', 'nodez20', 'nodez22', length=60, diameter=0.3048, roughness=100,minor_loss=0.0, initial_status='OPEN')\n",
    "wn.add_pipe('pipez23', 'nodez20', 'nodez23', length=60, diameter=0.3048, roughness=100,minor_loss=0.0, initial_status='OPEN')\n",
    "wn.add_pipe('pipez24', 'nodez20', 'nodez24', length=60, diameter=0.3048, roughness=100,minor_loss=0.0, initial_status='OPEN')"
   ]
  },
  {
   "cell_type": "code",
   "execution_count": 90,
   "id": "2ab1896a",
   "metadata": {},
   "outputs": [
    {
     "data": {
      "image/png": "[encoded data removed]",
      "text/plain": [
       "<Figure size 432x288 with 1 Axes>"
      ]
     },
     "metadata": {},
     "output_type": "display_data"
    }
   ],
   "source": [
    "ax = wntr.graphics.plot_network(wn,\n",
    "                                link_labels=False,\n",
    "                                link_width=2,\n",
    "                                node_size=50,\n",
    "                                title='Sample Model')"
   ]
  },
  {
   "cell_type": "code",
   "execution_count": null,
   "id": "3a69e108",
   "metadata": {},
   "outputs": [],
   "source": []
  }
 ],
 "metadata": {
  "kernelspec": {
   "display_name": "Python 3 (ipykernel)",
   "language": "python",
   "name": "python3"
  },
  "language_info": {
   "codemirror_mode": {
    "name": "ipython",
    "version": 3
   },
   "file_extension": ".py",
   "mimetype": "text/x-python",
   "name": "python",
   "nbconvert_exporter": "python",
   "pygments_lexer": "ipython3",
   "version": "3.9.7"
  }
 },
 "nbformat": 4,
 "nbformat_minor": 5
}
