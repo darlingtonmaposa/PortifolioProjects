{
  "cells": [
    {
      "cell_type": "markdown",
      "metadata": {
        "id": "FbNQIOg1iNLV"
      },
      "source": [
        "# Processing Big Data - Data profiling\n",
        "\n",
        "© Explore Data Science Academy\n",
        "\n",
        "## Honour Code\n",
        "I {**DARLINGTON**, **MAPOSA**}, confirm - by submitting this document - that the solutions in this notebook are a result of my own work and that I abide by the [EDSA honour code](https://drive.google.com/file/d/1QDCjGZJ8-FmJE3bZdIQNwnJyQKPhHZBn/view?usp=sharing).\n",
        "    Non-compliance with the honour code constitutes a material breach of contract.\n",
        "\n",
        "## Context\n",
        "\n",
        "Having completed the first step - data ingestion, the data now needs to be thoroughly prepared so that it is readable, reliable and robust. As the Data Engineer in the team, this will be your responsibility. The Data Scientists are looking to you to clean this data so that model development and deployment become seamless when the data is used in a production environment. Having completed your Data Engineering course recently, your manager Gnissecorp Atadgid, asks you to create data summaries and perform checks using the six dimensions of data quality.\n",
        "\n",
        "<div align=\"center\" style=\"width: 600px; font-size: 80%; text-align: center; margin: 0 auto\">\n",
        "<img src=\"https://github.com/Explore-AI/Pictures/raw/master/data_engineering/transform/predict/DataQuality.jpg\"\n",
        "     alt=\"Data Quality\"\n",
        "     style=\"float: center; padding-bottom=0.5em\"\n",
        "     width=100%/>\n",
        "     <p><em>Figure 1. Six dimensions of data quality</em></p>\n",
        "</div>"
      ]
    },
    {
      "cell_type": "markdown",
      "source": [
        "**Installing dependencies**"
      ],
      "metadata": {
        "id": "OeFYoum4BGg4"
      }
    },
    {
      "cell_type": "code",
      "source": [
        "\"\"\"  \n",
        "The installations below will ensure that spark and java installed in the environment\n",
        "as well as available for the notebook.\n",
        "\"\"\"\n",
        "!apt-get install openjdk-17-jdk-headless -qq > /dev/null\n",
        "!wget -q https://dlcdn.apache.org/spark/spark-3.3.0/spark-3.3.0-bin-hadoop3.tgz\n",
        "!tar xf spark-3.3.0-bin-hadoop3.tgz\n",
        "!pip install -q findspark\n",
        "!pip install pyspark"
      ],
      "metadata": {
        "colab": {
          "base_uri": "https://localhost:8080/"
        },
        "id": "GfQcMc0ZBBZU",
        "outputId": "c6062c4a-779b-4389-e410-a19c39e296d4"
      },
      "execution_count": null,
      "outputs": [
        {
          "output_type": "stream",
          "name": "stdout",
          "text": [
            "Looking in indexes: https://pypi.org/simple, https://us-python.pkg.dev/colab-wheels/public/simple/\n",
            "Collecting pyspark\n",
            "  Downloading pyspark-3.3.0.tar.gz (281.3 MB)\n",
            "\u001b[K     |████████████████████████████████| 281.3 MB 48 kB/s \n",
            "\u001b[?25hCollecting py4j==0.10.9.5\n",
            "  Downloading py4j-0.10.9.5-py2.py3-none-any.whl (199 kB)\n",
            "\u001b[K     |████████████████████████████████| 199 kB 36.8 MB/s \n",
            "\u001b[?25hBuilding wheels for collected packages: pyspark\n",
            "  Building wheel for pyspark (setup.py) ... \u001b[?25l\u001b[?25hdone\n",
            "  Created wheel for pyspark: filename=pyspark-3.3.0-py2.py3-none-any.whl size=281764026 sha256=51968240cc3a6f9b3da628a45fea458ed6cc58e11c20b194cf48179c0d8b89b7\n",
            "  Stored in directory: /root/.cache/pip/wheels/7a/8e/1b/f73a52650d2e5f337708d9f6a1750d451a7349a867f928b885\n",
            "Successfully built pyspark\n",
            "Installing collected packages: py4j, pyspark\n",
            "Successfully installed py4j-0.10.9.5 pyspark-3.3.0\n"
          ]
        }
      ]
    },
    {
      "cell_type": "code",
      "source": [
        "\"\"\"\n",
        "This section helps in rendering the notebook operable and ensuring that \n",
        "the environment variables for spark are correct. Running this cell in any\n",
        "notebook allows for any unresolved spark environment to be fixed.\n",
        "\"\"\"\n",
        "import os\n",
        "os.environ[\"JAVA_HOME\"] = \"/usr/lib/jvm/java-17-openjdk-amd64\"\n",
        "os.environ[\"SPARK_HOME\"] = \"/content/spark-3.3.0-bin-hadoop3\""
      ],
      "metadata": {
        "id": "CP1S4jNTCYUt"
      },
      "execution_count": null,
      "outputs": []
    },
    {
      "cell_type": "code",
      "source": [
        "\"\"\"\n",
        "This cell is used to mount a Google drive to the notebook:\n",
        "1. provide access to  Google drive\n",
        "2. file to be present in your Google drive or a shortcut to the file in your drive\n",
        "\"\"\"\n",
        "from google.colab import drive\n",
        "#drive.mount('/content/drive')\n",
        "drive.mount('/content/drive')"
      ],
      "metadata": {
        "colab": {
          "base_uri": "https://localhost:8080/"
        },
        "id": "NKfcY-McDUtK",
        "outputId": "a520dd8b-3f6e-48cb-9d83-91c6c23cf62d"
      },
      "execution_count": null,
      "outputs": [
        {
          "output_type": "stream",
          "name": "stdout",
          "text": [
            "Mounted at /content/drive\n"
          ]
        }
      ]
    },
    {
      "cell_type": "markdown",
      "metadata": {
        "id": "CAypmV7miNLb"
      },
      "source": [
        "## Import libraries\n",
        "Below we import the libraries required to complete this section of the predict."
      ]
    },
    {
      "cell_type": "code",
      "source": [
        "import pandas as pd\n",
        "import numpy as np\n",
        "import matplotlib.pyplot as plt\n",
        "from pyspark import SparkContext\n",
        "from pyspark.sql import SparkSession\n",
        "from pyspark.sql import functions as F\n",
        "from pyspark.sql.types import *"
      ],
      "metadata": {
        "id": "JLz-UiggEicr"
      },
      "execution_count": null,
      "outputs": []
    },
    {
      "cell_type": "code",
      "source": [
        "\"\"\"\n",
        "We need to locate Spark in the system. For that, we import findspark and \n",
        "use the findspark.init() method. If you want to know the location where \n",
        "Spark is installed, use findspark.find()\n",
        "\"\"\"\n",
        "import findspark\n",
        "findspark.init()\n",
        "# findspark.find()\n",
        "import pyspark"
      ],
      "metadata": {
        "id": "J260mSjEw9we"
      },
      "execution_count": null,
      "outputs": []
    },
    {
      "cell_type": "markdown",
      "metadata": {
        "id": "1S7-lpi9iNLd"
      },
      "source": [
        "Remember that we need a `SparkContext` and `SparkSession` to interface with Spark.\n",
        "We will mostly be using the `SparkContext` to interact with RDDs \n",
        "and the `SparkSession` to interface with Python objects.\n",
        "\n",
        "> ℹ️ **Instructions** ℹ️\n",
        ">\n",
        ">Initialise a new **Spark Context** and **Session** that you will use to interface with Spark."
      ]
    },
    {
      "cell_type": "code",
      "execution_count": null,
      "metadata": {
        "id": "IhZ8FcWNiNLe"
      },
      "outputs": [],
      "source": [
        "#TODO: Write your code here.\n",
        "# Create SparkSession \n",
        "spark = SparkSession.builder.master(\"local[*]\").getOrCreate()\n",
        "sc = SparkContext.getOrCreate()"
      ]
    },
    {
      "cell_type": "markdown",
      "metadata": {
        "id": "fn58EYIRiNLf"
      },
      "source": [
        "## Parquet files\n",
        "In the previous section of the predict, you generated parquet files to your local directory. You will be making use of these files to continue with this section of the predict. Please make sure that your parquet files are specifically for the year **1962**. Any other year used outside of **1962** will produce incorrect answers and have a negative impact on your overall predict mark.\n",
        "\n",
        "> ℹ️ **Instructions** ℹ️\n",
        ">\n",
        "> Read the parquet files stored in your directory for the year **1962** into a Spark DataFrame."
      ]
    },
    {
      "cell_type": "code",
      "execution_count": null,
      "metadata": {
        "id": "65sYwtTYiNLf",
        "colab": {
          "base_uri": "https://localhost:8080/"
        },
        "outputId": "533d6d0f-afc8-4fbc-a1c1-b061c19b6ac5"
      },
      "outputs": [
        {
          "output_type": "stream",
          "name": "stdout",
          "text": [
            "+----------+-----------+-----------+----------+----------+------------+---------+-----+\n",
            "|date      |open       |high       |low       |close     |adj_close   |volume   |stock|\n",
            "+----------+-----------+-----------+----------+----------+------------+---------+-----+\n",
            "|1962-02-19|5.83929    |5.907375   |5.83929   |5.86332   |1.3863293   |29900.0  |AA   |\n",
            "|1962-02-19|5.481634   |5.528486   |5.481634  |5.5167727 |1.2804527   |32000.0  |ARNC |\n",
            "|1962-02-19|0.9074074  |0.91563785 |0.89917696|0.9032922 |0.16141544  |619400.0 |BA   |\n",
            "|1962-02-19|1.6770834  |1.6927084  |1.6614584 |1.6770834 |0.1440587   |170400.0 |CAT  |\n",
            "|1962-02-19|0.0        |3.578869   |20.0      |3.549107  |0.056501225 |273600.0 |CVX  |\n",
            "|1962-02-19|0.099767394|0.099767394|0.09820853|0.09820853|0.037543412 |817400.0 |DIS  |\n",
            "|1962-02-19|0.0        |29.9375    |29.75     |29.9375   |0.49964145  |1600.0   |DTE  |\n",
            "|1962-02-19|0.0        |9.921875   |9.890625  |9.921875  |0.22499175  |8800.0   |ED   |\n",
            "|1962-02-19|0.0        |7.0833335  |7.0208335 |7.0208335 |0.91296524  |20400.0  |FL   |\n",
            "|1962-02-19|0.77373797 |0.777494   |0.76372194|0.767478  |0.0018262818|1557500.0|GE   |\n",
            "+----------+-----------+-----------+----------+----------+------------+---------+-----+\n",
            "only showing top 10 rows\n",
            "\n"
          ]
        }
      ],
      "source": [
        "#TODO: Write your code here\n",
        "path_parquet_1962 = \"/content/drive/MyDrive/data_ingestion_file.parquet\"\n",
        "parquet_df = spark.read.parquet(path_parquet_1962)\n",
        "parquet_df.show(10, truncate=False)"
      ]
    },
    {
      "cell_type": "code",
      "source": [
        "parquet_df.printSchema()"
      ],
      "metadata": {
        "colab": {
          "base_uri": "https://localhost:8080/"
        },
        "id": "j1fkDbY48I81",
        "outputId": "d3d20c1d-1bed-46e5-e434-7eb921da472d"
      },
      "execution_count": null,
      "outputs": [
        {
          "output_type": "stream",
          "name": "stdout",
          "text": [
            "root\n",
            " |-- date: date (nullable = true)\n",
            " |-- open: float (nullable = true)\n",
            " |-- high: float (nullable = true)\n",
            " |-- low: float (nullable = true)\n",
            " |-- close: float (nullable = true)\n",
            " |-- adj_close: float (nullable = true)\n",
            " |-- volume: float (nullable = true)\n",
            " |-- stock: string (nullable = true)\n",
            "\n"
          ]
        }
      ]
    },
    {
      "cell_type": "markdown",
      "metadata": {
        "id": "aOwQC3FRiNLg"
      },
      "source": [
        "## Metadata \n",
        "\n",
        "Metadata is data containing additional information about the data itself. In the cloud storage, there is a metadata file called [`symbols_valid_meta.csv`](https://processing-big-data-predict-stocks-data.s3.eu-west-1.amazonaws.com/symbols_valid_meta.csv) that is collocated with the stock market data. You will need to download this to use when performing your data quality checks.\n",
        "\n",
        "> ℹ️ **Instructions** ℹ️\n",
        ">\n",
        "> Download the metadata from the S3 bucket and read it into a Spark DataFrame."
      ]
    },
    {
      "cell_type": "code",
      "execution_count": null,
      "metadata": {
        "colab": {
          "base_uri": "https://localhost:8080/"
        },
        "id": "0QBuQpbXiNLh",
        "outputId": "88b6f3ae-aa2b-4d47-edf5-3038635e1f67"
      },
      "outputs": [
        {
          "output_type": "stream",
          "name": "stdout",
          "text": [
            "+-------------+------+---------------------------------------------------------------------------------------+----------------+---------------+---+--------------+----------+----------------+----------+-------------+----------+\n",
            "|Nasdaq Traded|Symbol|Security Name                                                                          |Listing Exchange|Market Category|ETF|Round Lot Size|Test Issue|Financial Status|CQS Symbol|NASDAQ Symbol|NextShares|\n",
            "+-------------+------+---------------------------------------------------------------------------------------+----------------+---------------+---+--------------+----------+----------------+----------+-------------+----------+\n",
            "|Y            |A     |Agilent Technologies, Inc. Common Stock                                                |N               |               |N  |100.0         |N         |null            |A         |A            |N         |\n",
            "|Y            |AA    |Alcoa Corporation Common Stock                                                         |N               |               |N  |100.0         |N         |null            |AA        |AA           |N         |\n",
            "|Y            |AAAU  |Perth Mint Physical Gold ETF                                                           |P               |               |Y  |100.0         |N         |null            |AAAU      |AAAU         |N         |\n",
            "|Y            |AACG  |ATA Creativity Global - American Depositary Shares, each representing two common shares|Q               |G              |N  |100.0         |N         |N               |null      |AACG         |N         |\n",
            "|Y            |AADR  |AdvisorShares Dorsey Wright ADR ETF                                                    |P               |               |Y  |100.0         |N         |null            |AADR      |AADR         |N         |\n",
            "|Y            |AAL   |American Airlines Group, Inc. - Common Stock                                           |Q               |Q              |N  |100.0         |N         |N               |null      |AAL          |N         |\n",
            "|Y            |AAMC  |Altisource Asset Management Corp Com                                                   |A               |               |N  |100.0         |N         |null            |AAMC      |AAMC         |N         |\n",
            "|Y            |AAME  |Atlantic American Corporation - Common Stock                                           |Q               |G              |N  |100.0         |N         |N               |null      |AAME         |N         |\n",
            "|Y            |AAN   |Aaron's, Inc. Common Stock                                                             |N               |               |N  |100.0         |N         |null            |AAN       |AAN          |N         |\n",
            "|Y            |AAOI  |Applied Optoelectronics, Inc. - Common Stock                                           |Q               |G              |N  |100.0         |N         |N               |null      |AAOI         |N         |\n",
            "+-------------+------+---------------------------------------------------------------------------------------+----------------+---------------+---+--------------+----------+----------------+----------+-------------+----------+\n",
            "only showing top 10 rows\n",
            "\n"
          ]
        }
      ],
      "source": [
        "#TODO: Write your code here\n",
        "symbols_valid_metadata_path = \"/content/drive/MyDrive/symbols_valid_meta.csv\"\n",
        "\n",
        "symbols_valid_metadata_df = spark.read.csv(symbols_valid_metadata_path, header=True)\n",
        "symbols_valid_metadata_df.show(10, truncate = False)"
      ]
    },
    {
      "cell_type": "markdown",
      "metadata": {
        "id": "DUQimwImiNLi"
      },
      "source": [
        "## Data Accuracy\n",
        "Data accuracy is the degree to which data correctly describes a \"real world\" object or event.\n",
        "\n",
        "It is important to do checks to determine the basic integrity of the dataset; do the values fall within expected ranges?\n",
        "\n",
        "Most of the possible errors relating to data accuracy can occur at collection time. In our case, it is not possible to test the collection time accuracy, so we have to infer from ranges and summary statistics. Here you need to look closely at each field to see if its values make sense, with no strange surprises.\n",
        "\n",
        "In assessing accuracy, it is important to look into precision as well. Do you need seven decimals, or will one or two suffice?\n",
        "\n",
        "- **Measured by**: The degree to which the data mirrors the characteristics of the real-world object or objects it represents;\n",
        "- **Units**: The percentage of data entries that pass the data accuracy rules;\n",
        "- **Related to**: Validity, Uniqueness, Consistency."
      ]
    },
    {
      "cell_type": "markdown",
      "metadata": {
        "id": "fnCAr_8ZiNLj"
      },
      "source": [
        "> ℹ️ **Instructions** ℹ️\n",
        ">\n",
        "> Generate summary statistics to explore your data. Make sure you understand the ranges, means, extremums, and deviations found in the data set."
      ]
    },
    {
      "cell_type": "code",
      "execution_count": null,
      "metadata": {
        "colab": {
          "base_uri": "https://localhost:8080/"
        },
        "id": "KweC9IRDiNLj",
        "outputId": "15ec2dd2-c4b5-41f0-ed64-62f22639fe92"
      },
      "outputs": [
        {
          "output_type": "stream",
          "name": "stdout",
          "text": [
            "+-------+------------------+------------------+------------------+-----------------+-----------------+-----------------+-----+\n",
            "|summary|              open|              high|               low|            close|        adj_close|           volume|stock|\n",
            "+-------+------------------+------------------+------------------+-----------------+-----------------+-----------------+-----+\n",
            "|  count|              5106|              5106|              5064|             5106|             5085|             5085| 5106|\n",
            "|   mean|1.0904873526012002|16.757624946793637|15.728619917198033|16.64199179044607|5.986642513535306|540930.2458210423| null|\n",
            "| stddev|  2.36445352530491| 53.91407348193546| 51.32292289814399|53.54677139900802|24.64637054715319|864596.2440525505| null|\n",
            "|    min|               0.0|               0.0|       0.052377883|      0.053624976|     4.0381454E-7|              0.0|   AA|\n",
            "|    25%|               0.0|         0.2454427|        0.24348958|       0.24739583|      0.006592116|          38400.0| null|\n",
            "|    50%|               0.0|         1.8046875|         1.7851562|        1.8007812|       0.12449309|         177600.0| null|\n",
            "|    75%|        0.69547325|          6.903353|         6.7916665|        6.8333335|        0.7141595|         734400.0| null|\n",
            "|    max|              20.0|             287.5|             282.5|            285.0|        127.45936|        1.95456E7|  XOM|\n",
            "+-------+------------------+------------------+------------------+-----------------+-----------------+-----------------+-----+\n",
            "\n"
          ]
        }
      ],
      "source": [
        "#TODO: Write your code here\n",
        "parquet_df.summary().show()"
      ]
    },
    {
      "cell_type": "markdown",
      "source": [
        "**Observations**\n",
        " 1. 'low', 'adj_close' and 'volume' have missing values\n",
        " 2. 'high', 'low', 'close', and 'adj_close' are generally far from the mean(high stddev)\n",
        " 3. some columns in the dataset have zero/null\n",
        "  values"
      ],
      "metadata": {
        "id": "AXn6mXVXUgj1"
      }
    },
    {
      "cell_type": "code",
      "source": [
        "#Convert spark dataframe to pandas dataframe\n",
        "parquet_pandas = parquet_df.toPandas()\n",
        "parquet_pandas.describe().round()"
      ],
      "metadata": {
        "colab": {
          "base_uri": "https://localhost:8080/",
          "height": 300
        },
        "id": "yn4wsP-__ac3",
        "outputId": "430aa25b-d71a-4263-a4d3-c45917e5083f"
      },
      "execution_count": null,
      "outputs": [
        {
          "output_type": "execute_result",
          "data": {
            "text/plain": [
              "         open    high     low   close  adj_close      volume\n",
              "count  5106.0  5106.0  5064.0  5106.0     5085.0      5085.0\n",
              "mean      1.0    17.0    16.0    17.0        6.0    540930.0\n",
              "std       2.0    54.0    51.0    54.0       25.0    864596.0\n",
              "min       0.0     0.0     0.0     0.0        0.0         0.0\n",
              "25%       0.0     0.0     0.0     0.0        0.0     38400.0\n",
              "50%       0.0     2.0     2.0     2.0        0.0    177600.0\n",
              "75%       1.0     7.0     7.0     7.0        1.0    734400.0\n",
              "max      20.0   288.0   282.0   285.0      127.0  19545600.0"
            ],
            "text/html": [
              "\n",
              "  <div id=\"df-ed34ed4a-cdbe-41c9-98c1-2be1625d9e53\">\n",
              "    <div class=\"colab-df-container\">\n",
              "      <div>\n",
              "<style scoped>\n",
              "    .dataframe tbody tr th:only-of-type {\n",
              "        vertical-align: middle;\n",
              "    }\n",
              "\n",
              "    .dataframe tbody tr th {\n",
              "        vertical-align: top;\n",
              "    }\n",
              "\n",
              "    .dataframe thead th {\n",
              "        text-align: right;\n",
              "    }\n",
              "</style>\n",
              "<table border=\"1\" class=\"dataframe\">\n",
              "  <thead>\n",
              "    <tr style=\"text-align: right;\">\n",
              "      <th></th>\n",
              "      <th>open</th>\n",
              "      <th>high</th>\n",
              "      <th>low</th>\n",
              "      <th>close</th>\n",
              "      <th>adj_close</th>\n",
              "      <th>volume</th>\n",
              "    </tr>\n",
              "  </thead>\n",
              "  <tbody>\n",
              "    <tr>\n",
              "      <th>count</th>\n",
              "      <td>5106.0</td>\n",
              "      <td>5106.0</td>\n",
              "      <td>5064.0</td>\n",
              "      <td>5106.0</td>\n",
              "      <td>5085.0</td>\n",
              "      <td>5085.0</td>\n",
              "    </tr>\n",
              "    <tr>\n",
              "      <th>mean</th>\n",
              "      <td>1.0</td>\n",
              "      <td>17.0</td>\n",
              "      <td>16.0</td>\n",
              "      <td>17.0</td>\n",
              "      <td>6.0</td>\n",
              "      <td>540930.0</td>\n",
              "    </tr>\n",
              "    <tr>\n",
              "      <th>std</th>\n",
              "      <td>2.0</td>\n",
              "      <td>54.0</td>\n",
              "      <td>51.0</td>\n",
              "      <td>54.0</td>\n",
              "      <td>25.0</td>\n",
              "      <td>864596.0</td>\n",
              "    </tr>\n",
              "    <tr>\n",
              "      <th>min</th>\n",
              "      <td>0.0</td>\n",
              "      <td>0.0</td>\n",
              "      <td>0.0</td>\n",
              "      <td>0.0</td>\n",
              "      <td>0.0</td>\n",
              "      <td>0.0</td>\n",
              "    </tr>\n",
              "    <tr>\n",
              "      <th>25%</th>\n",
              "      <td>0.0</td>\n",
              "      <td>0.0</td>\n",
              "      <td>0.0</td>\n",
              "      <td>0.0</td>\n",
              "      <td>0.0</td>\n",
              "      <td>38400.0</td>\n",
              "    </tr>\n",
              "    <tr>\n",
              "      <th>50%</th>\n",
              "      <td>0.0</td>\n",
              "      <td>2.0</td>\n",
              "      <td>2.0</td>\n",
              "      <td>2.0</td>\n",
              "      <td>0.0</td>\n",
              "      <td>177600.0</td>\n",
              "    </tr>\n",
              "    <tr>\n",
              "      <th>75%</th>\n",
              "      <td>1.0</td>\n",
              "      <td>7.0</td>\n",
              "      <td>7.0</td>\n",
              "      <td>7.0</td>\n",
              "      <td>1.0</td>\n",
              "      <td>734400.0</td>\n",
              "    </tr>\n",
              "    <tr>\n",
              "      <th>max</th>\n",
              "      <td>20.0</td>\n",
              "      <td>288.0</td>\n",
              "      <td>282.0</td>\n",
              "      <td>285.0</td>\n",
              "      <td>127.0</td>\n",
              "      <td>19545600.0</td>\n",
              "    </tr>\n",
              "  </tbody>\n",
              "</table>\n",
              "</div>\n",
              "      <button class=\"colab-df-convert\" onclick=\"convertToInteractive('df-ed34ed4a-cdbe-41c9-98c1-2be1625d9e53')\"\n",
              "              title=\"Convert this dataframe to an interactive table.\"\n",
              "              style=\"display:none;\">\n",
              "        \n",
              "  <svg xmlns=\"http://www.w3.org/2000/svg\" height=\"24px\"viewBox=\"0 0 24 24\"\n",
              "       width=\"24px\">\n",
              "    <path d=\"M0 0h24v24H0V0z\" fill=\"none\"/>\n",
              "    <path d=\"M18.56 5.44l.94 2.06.94-2.06 2.06-.94-2.06-.94-.94-2.06-.94 2.06-2.06.94zm-11 1L8.5 8.5l.94-2.06 2.06-.94-2.06-.94L8.5 2.5l-.94 2.06-2.06.94zm10 10l.94 2.06.94-2.06 2.06-.94-2.06-.94-.94-2.06-.94 2.06-2.06.94z\"/><path d=\"M17.41 7.96l-1.37-1.37c-.4-.4-.92-.59-1.43-.59-.52 0-1.04.2-1.43.59L10.3 9.45l-7.72 7.72c-.78.78-.78 2.05 0 2.83L4 21.41c.39.39.9.59 1.41.59.51 0 1.02-.2 1.41-.59l7.78-7.78 2.81-2.81c.8-.78.8-2.07 0-2.86zM5.41 20L4 18.59l7.72-7.72 1.47 1.35L5.41 20z\"/>\n",
              "  </svg>\n",
              "      </button>\n",
              "      \n",
              "  <style>\n",
              "    .colab-df-container {\n",
              "      display:flex;\n",
              "      flex-wrap:wrap;\n",
              "      gap: 12px;\n",
              "    }\n",
              "\n",
              "    .colab-df-convert {\n",
              "      background-color: #E8F0FE;\n",
              "      border: none;\n",
              "      border-radius: 50%;\n",
              "      cursor: pointer;\n",
              "      display: none;\n",
              "      fill: #1967D2;\n",
              "      height: 32px;\n",
              "      padding: 0 0 0 0;\n",
              "      width: 32px;\n",
              "    }\n",
              "\n",
              "    .colab-df-convert:hover {\n",
              "      background-color: #E2EBFA;\n",
              "      box-shadow: 0px 1px 2px rgba(60, 64, 67, 0.3), 0px 1px 3px 1px rgba(60, 64, 67, 0.15);\n",
              "      fill: #174EA6;\n",
              "    }\n",
              "\n",
              "    [theme=dark] .colab-df-convert {\n",
              "      background-color: #3B4455;\n",
              "      fill: #D2E3FC;\n",
              "    }\n",
              "\n",
              "    [theme=dark] .colab-df-convert:hover {\n",
              "      background-color: #434B5C;\n",
              "      box-shadow: 0px 1px 3px 1px rgba(0, 0, 0, 0.15);\n",
              "      filter: drop-shadow(0px 1px 2px rgba(0, 0, 0, 0.3));\n",
              "      fill: #FFFFFF;\n",
              "    }\n",
              "  </style>\n",
              "\n",
              "      <script>\n",
              "        const buttonEl =\n",
              "          document.querySelector('#df-ed34ed4a-cdbe-41c9-98c1-2be1625d9e53 button.colab-df-convert');\n",
              "        buttonEl.style.display =\n",
              "          google.colab.kernel.accessAllowed ? 'block' : 'none';\n",
              "\n",
              "        async function convertToInteractive(key) {\n",
              "          const element = document.querySelector('#df-ed34ed4a-cdbe-41c9-98c1-2be1625d9e53');\n",
              "          const dataTable =\n",
              "            await google.colab.kernel.invokeFunction('convertToInteractive',\n",
              "                                                     [key], {});\n",
              "          if (!dataTable) return;\n",
              "\n",
              "          const docLinkHtml = 'Like what you see? Visit the ' +\n",
              "            '<a target=\"_blank\" href=https://colab.research.google.com/notebooks/data_table.ipynb>data table notebook</a>'\n",
              "            + ' to learn more about interactive tables.';\n",
              "          element.innerHTML = '';\n",
              "          dataTable['output_type'] = 'display_data';\n",
              "          await google.colab.output.renderOutput(dataTable, element);\n",
              "          const docLink = document.createElement('div');\n",
              "          docLink.innerHTML = docLinkHtml;\n",
              "          element.appendChild(docLink);\n",
              "        }\n",
              "      </script>\n",
              "    </div>\n",
              "  </div>\n",
              "  "
            ]
          },
          "metadata": {},
          "execution_count": 11
        }
      ]
    },
    {
      "cell_type": "code",
      "source": [
        "parquet_pandas.dtypes"
      ],
      "metadata": {
        "colab": {
          "base_uri": "https://localhost:8080/"
        },
        "id": "uJLinO4NIu6C",
        "outputId": "0bbe05c8-82c5-4414-cd1c-896a4d04dcdc"
      },
      "execution_count": null,
      "outputs": [
        {
          "output_type": "execute_result",
          "data": {
            "text/plain": [
              "date          object\n",
              "open         float32\n",
              "high         float32\n",
              "low          float32\n",
              "close        float32\n",
              "adj_close    float32\n",
              "volume       float32\n",
              "stock         object\n",
              "dtype: object"
            ]
          },
          "metadata": {},
          "execution_count": 12
        }
      ]
    },
    {
      "cell_type": "markdown",
      "metadata": {
        "id": "R6RqmBLkiNLk"
      },
      "source": [
        "> ℹ️ **Instructions** ℹ️\n",
        ">\n",
        "> Generate histograms for the six numerical attributes found in the data to understand the distribution of values.\n",
        ">\n",
        ">*You may use as many coding cells as necessary.*"
      ]
    },
    {
      "cell_type": "code",
      "source": [
        "open_hist = parquet_pandas.hist(column =\"open\", bins=100, color='red');\n",
        "#plt.set_xlabel(\"summary\", labelpad=20, weight='bold', size=12)\n",
        "#plt.ylabel"
      ],
      "metadata": {
        "colab": {
          "base_uri": "https://localhost:8080/",
          "height": 281
        },
        "id": "_SU7lO9iFrWo",
        "outputId": "e117d363-93b6-421d-c0bb-d8543039ff19"
      },
      "execution_count": null,
      "outputs": [
        {
          "output_type": "display_data",
          "data": {
            "text/plain": [
              "<Figure size 432x288 with 1 Axes>"
            ],
            "image/png": "[encoded data removed]"
          },
          "metadata": {
            "needs_background": "light"
          }
        }
      ]
    },
    {
      "cell_type": "markdown",
      "source": [
        "1. The 'open' column has outliers"
      ],
      "metadata": {
        "id": "iRJrFWoNExN2"
      }
    },
    {
      "cell_type": "code",
      "source": [
        "parquet_pandas.hist(column=\"high\", bins=100, color='red'); \n"
      ],
      "metadata": {
        "colab": {
          "base_uri": "https://localhost:8080/",
          "height": 281
        },
        "id": "W7hRHyh2KfKS",
        "outputId": "32de43f3-7ece-4f62-bfe5-2a5b9b6fb28e"
      },
      "execution_count": null,
      "outputs": [
        {
          "output_type": "display_data",
          "data": {
            "text/plain": [
              "<Figure size 432x288 with 1 Axes>"
            ],
            "image/png": "[encoded data removed]"
          },
          "metadata": {
            "needs_background": "light"
          }
        }
      ]
    },
    {
      "cell_type": "markdown",
      "source": [
        "1. The 'high' column has outliers"
      ],
      "metadata": {
        "id": "JpI434sBEpYl"
      }
    },
    {
      "cell_type": "code",
      "source": [
        "parquet_pandas.hist(column=\"low\", bins=50, color='red'), "
      ],
      "metadata": {
        "colab": {
          "base_uri": "https://localhost:8080/",
          "height": 318
        },
        "id": "3kcYm6u7KjfY",
        "outputId": "ce37de05-7503-4bc4-cfa4-a80c671f3d39"
      },
      "execution_count": null,
      "outputs": [
        {
          "output_type": "execute_result",
          "data": {
            "text/plain": [
              "(array([[<matplotlib.axes._subplots.AxesSubplot object at 0x7fcff1421790>]],\n",
              "       dtype=object),)"
            ]
          },
          "metadata": {},
          "execution_count": 15
        },
        {
          "output_type": "display_data",
          "data": {
            "text/plain": [
              "<Figure size 432x288 with 1 Axes>"
            ],
            "image/png": "[encoded data removed]"
          },
          "metadata": {
            "needs_background": "light"
          }
        }
      ]
    },
    {
      "cell_type": "markdown",
      "source": [
        "1. The 'low' column has some outliers"
      ],
      "metadata": {
        "id": "O0UNRENNEgly"
      }
    },
    {
      "cell_type": "code",
      "source": [
        "parquet_pandas.hist(column=\"close\", bins=100, color='red'),"
      ],
      "metadata": {
        "colab": {
          "base_uri": "https://localhost:8080/",
          "height": 318
        },
        "id": "pJqrjlA8KnW3",
        "outputId": "333bc986-ce5e-437f-c9dd-e8746dc8e6db"
      },
      "execution_count": null,
      "outputs": [
        {
          "output_type": "execute_result",
          "data": {
            "text/plain": [
              "(array([[<matplotlib.axes._subplots.AxesSubplot object at 0x7fcff13b9c50>]],\n",
              "       dtype=object),)"
            ]
          },
          "metadata": {},
          "execution_count": 16
        },
        {
          "output_type": "display_data",
          "data": {
            "text/plain": [
              "<Figure size 432x288 with 1 Axes>"
            ],
            "image/png": "[encoded data removed]"
          },
          "metadata": {
            "needs_background": "light"
          }
        }
      ]
    },
    {
      "cell_type": "markdown",
      "source": [
        "1. The 'close' column has some outliers"
      ],
      "metadata": {
        "id": "Q0mGxLeKEXDU"
      }
    },
    {
      "cell_type": "code",
      "source": [
        "parquet_pandas.hist(column=\"adj_close\", bins=30, color='red'),"
      ],
      "metadata": {
        "colab": {
          "base_uri": "https://localhost:8080/",
          "height": 318
        },
        "id": "dL59Z1-IKp8U",
        "outputId": "973c0b34-9dc1-40b2-ff36-79224c121309"
      },
      "execution_count": null,
      "outputs": [
        {
          "output_type": "execute_result",
          "data": {
            "text/plain": [
              "(array([[<matplotlib.axes._subplots.AxesSubplot object at 0x7fcff1251250>]],\n",
              "       dtype=object),)"
            ]
          },
          "metadata": {},
          "execution_count": 17
        },
        {
          "output_type": "display_data",
          "data": {
            "text/plain": [
              "<Figure size 432x288 with 1 Axes>"
            ],
            "image/png": "[encoded data removed]"
          },
          "metadata": {
            "needs_background": "light"
          }
        }
      ]
    },
    {
      "cell_type": "markdown",
      "source": [
        "1. The 'adj_close' column has some outliers"
      ],
      "metadata": {
        "id": "QfjZunq_ED1s"
      }
    },
    {
      "cell_type": "code",
      "source": [
        "parquet_pandas.hist(column=\"volume\", bins=50, color='green'),"
      ],
      "metadata": {
        "colab": {
          "base_uri": "https://localhost:8080/",
          "height": 331
        },
        "id": "lM33_sURKuVA",
        "outputId": "c2739dca-8e9b-4b50-9c8f-95eb84081f97"
      },
      "execution_count": null,
      "outputs": [
        {
          "output_type": "execute_result",
          "data": {
            "text/plain": [
              "(array([[<matplotlib.axes._subplots.AxesSubplot object at 0x7fcff15b1150>]],\n",
              "       dtype=object),)"
            ]
          },
          "metadata": {},
          "execution_count": 18
        },
        {
          "output_type": "display_data",
          "data": {
            "text/plain": [
              "<Figure size 432x288 with 1 Axes>"
            ],
            "image/png": "[encoded data removed]"
          },
          "metadata": {
            "needs_background": "light"
          }
        }
      ]
    },
    {
      "cell_type": "markdown",
      "source": [
        "1. The 'volume' column shows a  normal like distribution with no visible outliers"
      ],
      "metadata": {
        "id": "71EmiFpFDkXO"
      }
    },
    {
      "cell_type": "markdown",
      "metadata": {
        "id": "9GElyk5DiNLk"
      },
      "source": [
        "> ℹ️ **Instructions** ℹ️\n",
        ">\n",
        "> Investigate the **open** column to identify stocks that have open values greater than 2, and note any anomalies that you find in the data.\n",
        ">\n",
        ">*You may use as many coding cells as necessary.*"
      ]
    },
    {
      "cell_type": "code",
      "execution_count": null,
      "metadata": {
        "id": "3jhmUj2PiNLl",
        "colab": {
          "base_uri": "https://localhost:8080/"
        },
        "outputId": "cc8f8bbf-82da-4637-812a-e62509fcec5a"
      },
      "outputs": [
        {
          "output_type": "stream",
          "name": "stdout",
          "text": [
            "+----------+---------+---------+--------+---------+----------+--------+-----+\n",
            "|      date|     open|     high|     low|    close| adj_close|  volume|stock|\n",
            "+----------+---------+---------+--------+---------+----------+--------+-----+\n",
            "|1962-02-19|  5.83929| 5.907375| 5.83929|  5.86332| 1.3863293| 29900.0|   AA|\n",
            "|1962-02-19| 5.481634| 5.528486|5.481634|5.5167727| 1.2804527| 32000.0| ARNC|\n",
            "|1962-02-19|     7.26|7.2933335|7.173333|7.1866665| 0.5825691|280000.0|  IBM|\n",
            "|1962-02-14|  5.83929|  5.83929|5.747175|  5.80725| 1.3730713| 56500.0|   AA|\n",
            "|1962-02-14| 5.481634| 5.481634|5.399644|5.4347825| 1.2614225| 60400.0| ARNC|\n",
            "|1962-02-14| 7.306667|7.3333335|    7.28|7.2933335|0.59121627|208000.0|  IBM|\n",
            "|1962-02-13|  5.85531| 5.915385| 5.85531|  5.86332| 1.3863293| 62500.0|   AA|\n",
            "|1962-02-13|  5.50506| 5.540199| 5.50506|5.5167727| 1.2804527| 66800.0| ARNC|\n",
            "|1962-02-13|7.4266667|7.4333334|7.306667| 7.306667|0.59229714|256000.0|  IBM|\n",
            "|1962-02-26|  6.05556| 6.107625|5.955435| 6.107625| 1.4440926| 82500.0|   AA|\n",
            "+----------+---------+---------+--------+---------+----------+--------+-----+\n",
            "only showing top 10 rows\n",
            "\n"
          ]
        }
      ],
      "source": [
        "#TODO: Write your code here\n",
        "open_data_greater2 = parquet_df.where(F.col('open') > 2)\n",
        "open_data_greater2.show(10)"
      ]
    },
    {
      "cell_type": "code",
      "source": [
        "stocks_open_data_greater2 = open_data_greater2.select('stock','open').groupBy('stock').count()\n",
        "stocks_open_data_greater2.show() "
      ],
      "metadata": {
        "colab": {
          "base_uri": "https://localhost:8080/"
        },
        "id": "U2yk422VeXGg",
        "outputId": "34408ade-648e-448f-ebbd-fcf8c963e808"
      },
      "execution_count": null,
      "outputs": [
        {
          "output_type": "stream",
          "name": "stdout",
          "text": [
            "+-----+-----+\n",
            "|stock|count|\n",
            "+-----+-----+\n",
            "|   AA|  252|\n",
            "|ARNCA|   21|\n",
            "|   PG|   23|\n",
            "|  IBM|  252|\n",
            "| ARNC|  231|\n",
            "+-----+-----+\n",
            "\n"
          ]
        }
      ]
    },
    {
      "cell_type": "markdown",
      "source": [
        "1. An open trading value of 2 may be considered an outlier and the following financial securities comapanies had the following outlier data points: \n",
        "**AA- 252, \n",
        "ARNCA- 21, \n",
        "PG- 23, \n",
        "IBM- 252, \n",
        "ARNC- 231** "
      ],
      "metadata": {
        "id": "9ryH1GTFhXde"
      }
    },
    {
      "cell_type": "code",
      "source": [
        "stocks_open_data_greater2.toPandas().plot(kind='bar')\n",
        "plt.title('Stocks with open value greater than 2')\n",
        "plt.xlabel('Open data values')\n",
        "plt.ylabel('Count of values')\n",
        "plt.xticks([0,1,2,3,4],stocks_open_data_greater2.toPandas()['stock'].to_list())\n",
        "plt.show()"
      ],
      "metadata": {
        "colab": {
          "base_uri": "https://localhost:8080/",
          "height": 320
        },
        "id": "FFCjYTP3kKFk",
        "outputId": "bf828365-9fc0-40a8-ad6c-b16e95f15bf3"
      },
      "execution_count": null,
      "outputs": [
        {
          "output_type": "display_data",
          "data": {
            "text/plain": [
              "<Figure size 432x288 with 1 Axes>"
            ],
            "image/png": "[encoded data removed]"
          },
          "metadata": {
            "needs_background": "light"
          }
        }
      ]
    },
    {
      "cell_type": "markdown",
      "metadata": {
        "id": "aYeLNVOgiNLl"
      },
      "source": [
        " ## 📔️**Notes** 📔️\n",
        "\n",
        " *Use this cell to note down any potential findings.*\n",
        " 1.close, low, adj_close have missing values\n",
        " 2.From the above plots, only one( the volume data) of the six      histogram distributions appear to be approximately normal\n",
        " 3.the five other variables have a concentrated distribution with some extreme outliers\n",
        "    ...\n",
        " "
      ]
    },
    {
      "cell_type": "markdown",
      "metadata": {
        "id": "KFiHUkiliNLm"
      },
      "source": [
        "> ℹ️ **Instructions** ℹ️\n",
        ">\n",
        "> Investigate **high**, **low**, **close**, and **adj_close** to determine if any stocks may be deviating from the normal ranges of the data set. Note down the stock(s) that you come across.\n",
        ">\n",
        ">*You may use as many coding cells as necessary.*"
      ]
    },
    {
      "cell_type": "code",
      "execution_count": null,
      "metadata": {
        "id": "PYiS5NseiNLm",
        "colab": {
          "base_uri": "https://localhost:8080/",
          "height": 339
        },
        "outputId": "78261c13-f851-43a1-9e57-efd7a67f9051"
      },
      "outputs": [
        {
          "output_type": "stream",
          "name": "stderr",
          "text": [
            "/usr/local/lib/python3.7/dist-packages/matplotlib/cbook/__init__.py:1376: VisibleDeprecationWarning: Creating an ndarray from ragged nested sequences (which is a list-or-tuple of lists-or-tuples-or ndarrays with different lengths or shapes) is deprecated. If you meant to do this, you must specify 'dtype=object' when creating the ndarray.\n",
            "  X = np.atleast_1d(X.T if isinstance(X, np.ndarray) else np.asarray(X))\n"
          ]
        },
        {
          "output_type": "display_data",
          "data": {
            "text/plain": [
              "<Figure size 432x288 with 1 Axes>"
            ],
            "image/png": "[encoded data removed]"
          },
          "metadata": {
            "needs_background": "light"
          }
        }
      ],
      "source": [
        "#TODO: Write your code here\n",
        "ax = parquet_pandas[['high', 'low','close','adj_close']].plot(kind='box', title='Boxplot for high, low, close, adj_close columns', showmeans=True)\n",
        "plt.show()"
      ]
    },
    {
      "cell_type": "code",
      "source": [
        "# Most values in the high column seem to be less or equal to 60. Anything above 60 is considered an outlier\n",
        "high_outliers = parquet_df.where(F.col('high')>60).select('stock','high').groupBy('stock').count()\n",
        "high_outliers.show()"
      ],
      "metadata": {
        "colab": {
          "base_uri": "https://localhost:8080/"
        },
        "id": "kK8vZ_xmXd5H",
        "outputId": "f5a2983b-0b67-4908-ad15-fded9d209200"
      },
      "execution_count": null,
      "outputs": [
        {
          "output_type": "stream",
          "name": "stdout",
          "text": [
            "+-----+-----+\n",
            "|stock|count|\n",
            "+-----+-----+\n",
            "|  NAV|  252|\n",
            "+-----+-----+\n",
            "\n"
          ]
        }
      ]
    },
    {
      "cell_type": "code",
      "source": [
        "# Most values in the high column seem to be less or equal to 60. Anything above 60 is considered an outlier\n",
        "low_outliers = parquet_df.where(F.col('low')>60).select('stock','low').groupBy('stock').count()\n",
        "low_outliers.show()"
      ],
      "metadata": {
        "colab": {
          "base_uri": "https://localhost:8080/"
        },
        "id": "GKDDNDolYlXd",
        "outputId": "defc9f34-e5f2-4463-981d-5cd1f0583983"
      },
      "execution_count": null,
      "outputs": [
        {
          "output_type": "stream",
          "name": "stdout",
          "text": [
            "+-----+-----+\n",
            "|stock|count|\n",
            "+-----+-----+\n",
            "|  NAV|  232|\n",
            "+-----+-----+\n",
            "\n"
          ]
        }
      ]
    },
    {
      "cell_type": "code",
      "source": [
        "# Most values in the high column seem to be less or equal to 60. Anything above 60 is considered an outlier\n",
        "close_outliers = parquet_df.where(F.col('close')>60).select('stock','close').groupBy('stock').count()\n",
        "close_outliers.show()"
      ],
      "metadata": {
        "colab": {
          "base_uri": "https://localhost:8080/"
        },
        "id": "aFotPU_PZA4K",
        "outputId": "8418f14d-5d66-4676-8789-aa5a608db13e"
      },
      "execution_count": null,
      "outputs": [
        {
          "output_type": "stream",
          "name": "stdout",
          "text": [
            "+-----+-----+\n",
            "|stock|count|\n",
            "+-----+-----+\n",
            "|  NAV|  252|\n",
            "+-----+-----+\n",
            "\n"
          ]
        }
      ]
    },
    {
      "cell_type": "code",
      "source": [
        "# Most values in the high column seem to be less or equal to 25. Anything above 25 is considered an outlier\n",
        "adj_close_outliers = parquet_df.where(F.col('adj_close')>25).select('stock','adj_close').groupBy('stock').count()\n",
        "adj_close_outliers.show()"
      ],
      "metadata": {
        "colab": {
          "base_uri": "https://localhost:8080/"
        },
        "id": "mto6ZhnCamqc",
        "outputId": "4734874b-385e-4644-d99d-fdffa7ad6b8d"
      },
      "execution_count": null,
      "outputs": [
        {
          "output_type": "stream",
          "name": "stdout",
          "text": [
            "+-----+-----+\n",
            "|stock|count|\n",
            "+-----+-----+\n",
            "|  NAV|  252|\n",
            "+-----+-----+\n",
            "\n"
          ]
        }
      ]
    },
    {
      "cell_type": "markdown",
      "metadata": {
        "id": "SuRqeC45iNLm"
      },
      "source": [
        " ## 📔️**Notes** 📔️\n",
        "\n",
        " *Use this cell to note down any potential findings.*\n",
        "\n",
        " 1.The NAV stock has deviating data(outliers) for 'high', 'low', 'close' and 'adj_close' columns\n",
        " "
      ]
    },
    {
      "cell_type": "markdown",
      "metadata": {
        "id": "XSQL8AkPiNLn"
      },
      "source": [
        "\n",
        "\n",
        "## Completeness\n",
        "\n",
        "Completeness is the proportion of stored data against the potential of “100% complete\". This is the degree to which the required data is in the dataset. \n",
        "\n",
        "Does the dataset have missing values, or if it is time-series data, does it have time period gaps? Has a bias been introduced that may change your assumptions or affect your results?\n",
        "\n",
        "Completeness issues can occur at the row level (gaps within the dataset) or the field level (one entry missing). At the field level, entire fields can being empty, or >80% of a field's data missing. \n",
        "\n",
        "Another issue that may occur is default values. A typical example of this is where a logger sends back a 0 instead of a null value, which can greatly skew any attempts at modelling. This is where it is instrumental to employ domain knowledge when assessing a dataset. \n",
        "\n",
        "- **Measured by**: A measure of the absence of blank (null) values or the presence of non-blank values;\n",
        "- **Units**: Percentage;\n",
        "- **Related to**: Validity and Accuracy."
      ]
    },
    {
      "cell_type": "markdown",
      "metadata": {
        "id": "-UOjrWN0iNLn"
      },
      "source": [
        "### Missing values\n",
        "\n",
        "> ℹ️ **Instructions** ℹ️\n",
        ">\n",
        "> Write code to identify and count the number of missing values (nulls) in the dataset. Include a percentage to describe the proportion of missing values per column. Output the results in the following manner:\n",
        ">\n",
        "> `There are <number_of_missing_values> (<percentage>) null values in <column_name> column`\n",
        ">\n",
        ">*You may use as many coding cells as necessary.*"
      ]
    },
    {
      "cell_type": "code",
      "execution_count": null,
      "metadata": {
        "id": "I4-Uzx0miNLn",
        "colab": {
          "base_uri": "https://localhost:8080/"
        },
        "outputId": "df50543f-943e-44ce-feac-2fe68b6695b3"
      },
      "outputs": [
        {
          "output_type": "stream",
          "name": "stdout",
          "text": [
            "There are 0 (0.0%) null values in date column\n",
            "There are 0 (0.0%) null values in open column\n",
            "There are 0 (0.0%) null values in high column\n",
            "There are 42 (0.823%) null values in low column\n",
            "There are 0 (0.0%) null values in close column\n",
            "There are 21 (0.411%) null values in adj_close column\n",
            "There are 21 (0.411%) null values in volume column\n",
            "There are 0 (0.0%) null values in stock column\n"
          ]
        }
      ],
      "source": [
        "#TODO: Write your code here\n",
        "missing_count = {}  # Dictionary to keep track of the results\n",
        "for column in parquet_df.columns:   # loop through each column\n",
        "    _count = parquet_df.where(parquet_df[column].isNull()).count()  # null count in column x\n",
        "    _total_count = parquet_df.select(parquet_df[column]).count()    # total count of column x \n",
        "    print(f'There are {_count} ({round(_count/_total_count*100, 3)}%) null values in {column} column')  # print out and calculate results\n",
        "    missing_count[f'{column}'] = _count # recording results in missing_count dictionary "
      ]
    },
    {
      "cell_type": "markdown",
      "metadata": {
        "id": "QISi8VbMiNLo"
      },
      "source": [
        "### Columns with missing values"
      ]
    },
    {
      "cell_type": "markdown",
      "metadata": {
        "id": "7JSrLnBhiNLo"
      },
      "source": [
        "\n",
        "> ℹ️ **Instructions** ℹ️\n",
        ">\n",
        "> From the above result, probe the columns that are affected by the missing data to find out which stocks were affected.\n",
        ">\n",
        ">*You may use as many coding cells as necessary.*"
      ]
    },
    {
      "cell_type": "code",
      "execution_count": null,
      "metadata": {
        "id": "Xvd6H5yViNLo",
        "colab": {
          "base_uri": "https://localhost:8080/"
        },
        "outputId": "ebc6dddf-d066-4126-d9ab-95e6afcf87ad"
      },
      "outputs": [
        {
          "output_type": "stream",
          "name": "stdout",
          "text": [
            "+-----+-----+\n",
            "|stock|count|\n",
            "+-----+-----+\n",
            "|  JNJ|   21|\n",
            "|  CAT|   22|\n",
            "|   FL|   21|\n",
            "|  NAV|   20|\n",
            "+-----+-----+\n",
            "\n"
          ]
        }
      ],
      "source": [
        "parquet_df.where(F.isnull('low')|F.isnull('adj_close')|F.isnull('volume')).select('stock').groupby('stock').count().show()"
      ]
    },
    {
      "cell_type": "markdown",
      "metadata": {
        "id": "I-ZGKL_-iNLo"
      },
      "source": [
        "#### Fix Completeness\n",
        "\n",
        "How do we deal with incomplete data?\n",
        "- Dropping missing values\n",
        "- Discard the incomplete column\n",
        "- Discard the rows containing missing data\n",
        "- Case deletion\n",
        "\n",
        "> ℹ️ **Instructions** ℹ️\n",
        ">\n",
        "> Use the appropriate strategy to remedy the missing data. \n",
        ">\n",
        ">*You may use as many coding cells as necessary.*"
      ]
    },
    {
      "cell_type": "code",
      "execution_count": null,
      "metadata": {
        "id": "Fuk0gOI_iNLp",
        "colab": {
          "base_uri": "https://localhost:8080/"
        },
        "outputId": "940867aa-2829-4fc5-b75f-b98fbf792784"
      },
      "outputs": [
        {
          "output_type": "stream",
          "name": "stdout",
          "text": [
            "+----------+-----------+-----------+----------+----------+------------+---------+-----+\n",
            "|      date|       open|       high|       low|     close|   adj_close|   volume|stock|\n",
            "+----------+-----------+-----------+----------+----------+------------+---------+-----+\n",
            "|1962-02-19|    5.83929|   5.907375|   5.83929|   5.86332|   1.3863293|  29900.0|   AA|\n",
            "|1962-02-19|   5.481634|   5.528486|  5.481634| 5.5167727|   1.2804527|  32000.0| ARNC|\n",
            "|1962-02-19|  0.9074074| 0.91563785|0.89917696| 0.9032922|  0.16141544| 619400.0|   BA|\n",
            "|1962-02-19|  1.6770834|  1.6927084| 1.6614584| 1.6770834|   0.1440587| 170400.0|  CAT|\n",
            "|1962-02-19|        0.0|   3.578869|      20.0|  3.549107| 0.056501225| 273600.0|  CVX|\n",
            "|1962-02-19|0.099767394|0.099767394|0.09820853|0.09820853| 0.037543412| 817400.0|  DIS|\n",
            "|1962-02-19|        0.0|    29.9375|     29.75|   29.9375|  0.49964145|   1600.0|  DTE|\n",
            "|1962-02-19|        0.0|   9.921875|  9.890625|  9.921875|  0.22499175|   8800.0|   ED|\n",
            "|1962-02-19|        0.0|  7.0833335| 7.0208335| 7.0208335|  0.91296524|  20400.0|   FL|\n",
            "|1962-02-19| 0.77373797|   0.777494|0.76372194|  0.767478|0.0018262818|1557500.0|   GE|\n",
            "+----------+-----------+-----------+----------+----------+------------+---------+-----+\n",
            "only showing top 10 rows\n",
            "\n"
          ]
        }
      ],
      "source": [
        "#TODO: Write your code here\n",
        "#Drop missing values\n",
        "parquet_df_without_missing_values = parquet_df.dropna(how='any')\n",
        "parquet_df_without_missing_values.show(10)"
      ]
    },
    {
      "cell_type": "markdown",
      "metadata": {
        "id": "a219HWO8iNLp"
      },
      "source": [
        "### Zero Values\n",
        "\n",
        "Take a deeper look into the entries with many zero values."
      ]
    },
    {
      "cell_type": "markdown",
      "metadata": {
        "id": "qSqW6pLniNLp"
      },
      "source": [
        "#### Fix Completeness\n",
        "\n",
        "Completeness issues can be fixed through imputation of the missing data through:\n",
        "- imputation by mean/mode/median;\n",
        "- regression; or\n",
        "- KNN.\n",
        " \n",
        "> ℹ️ **Instructions** ℹ️\n",
        ">\n",
        "> Write code to identify and count the number of zeros (0) in the dataset. Include a percentage to describe the proportion of missing values per column. Output the results in the following manner:\n",
        ">\n",
        "> `There are <number_of_zeros> (<percentage>) zero values in <column_name> column`\n",
        ">\n",
        ">*You may use as many coding cells as necessary.*"
      ]
    },
    {
      "cell_type": "code",
      "execution_count": null,
      "metadata": {
        "id": "oZNy3fgEiNLp",
        "colab": {
          "base_uri": "https://localhost:8080/"
        },
        "outputId": "396f9cc9-4ca4-4e66-b28e-5e20b4ee04f6"
      },
      "outputs": [
        {
          "output_type": "stream",
          "name": "stdout",
          "text": [
            "Column is not numeric: date\n",
            "There are 2706 (53.883%) zero values in open column\n",
            "There are 20 (0.398%) zero values in high column\n",
            "There are 0 (0.0%) zero values in low column\n",
            "There are 0 (0.0%) zero values in close column\n",
            "There are 0 (0.0%) zero values in adj_close column\n",
            "There are 27 (0.538%) zero values in volume column\n",
            "There are 0 (0.0%) zero values in stock column\n"
          ]
        }
      ],
      "source": [
        "#TODO: Write your code here\n",
        "# Check for zeroes within the columns.\n",
        "\n",
        "# Define a dictionary to keep track of the results.\n",
        "zeros_count = {}\n",
        "for column in parquet_df.columns: # loop through each column\n",
        "    try:\n",
        "         #count the number of zeros in column\n",
        "         count_zeros = parquet_df_without_missing_values.where(parquet_df_without_missing_values[column] == 0).count()\n",
        "         #count the total number of values in column\n",
        "         total_count_zeros = parquet_df_without_missing_values.select(parquet_df_without_missing_values[column]).count()\n",
        "         #calculate and print the results\n",
        "         print(f'There are {count_zeros} ({round(count_zeros/total_count_zeros*100, 3)}%) zero values in {column} column')\n",
        "         #recording results in the dictionary\n",
        "         zeros_count[f'{column}'] = count_zeros \n",
        "    except: # catch exceptions\n",
        "        print(f'Column is not numeric: {[dtype for name, dtype in parquet_df_without_missing_values.dtypes if name == column][0]}')"
      ]
    },
    {
      "cell_type": "markdown",
      "metadata": {
        "id": "mLiQoEvViNLq"
      },
      "source": [
        "From the above section, you find that there are a few columns that contain zero values. However, some of these are true zeros and are explainable. Your task is to distinguish which column should undergo data imputation.\n",
        "\n",
        "> ℹ️ **Instructions** ℹ️\n",
        ">\n",
        "> Investigate the columns with zero values and determine which one should undergo data imputation. Take note of the stock and month on which zero values occurred.\n",
        ">\n",
        ">*You may use as many coding cells as necessary.*"
      ]
    },
    {
      "cell_type": "code",
      "execution_count": null,
      "metadata": {
        "id": "uS9CRDdLiNLq",
        "colab": {
          "base_uri": "https://localhost:8080/"
        },
        "outputId": "f9010f82-6a76-447b-a3d1-247f45461fa6"
      },
      "outputs": [
        {
          "output_type": "stream",
          "name": "stdout",
          "text": [
            "+-----+-----+\n",
            "|stock|count|\n",
            "+-----+-----+\n",
            "|  XOM|  252|\n",
            "|   PG|  229|\n",
            "|   GT|  252|\n",
            "|   MO|  252|\n",
            "|  JNJ|  231|\n",
            "|  CVX|  252|\n",
            "|  DTE|  252|\n",
            "|   IP|  252|\n",
            "|   FL|  231|\n",
            "|   ED|  271|\n",
            "|  NAV|  232|\n",
            "+-----+-----+\n",
            "\n"
          ]
        }
      ],
      "source": [
        "#TODO: Write your code here\n",
        "\n",
        "#Zeros per stock for 'open' column\n",
        "parquet_df_without_missing_values.where(parquet_df_without_missing_values['open'] == 0).groupby('stock').count().show()"
      ]
    },
    {
      "cell_type": "code",
      "source": [
        "#Zeros per stock for 'high' column\n",
        "parquet_df_without_missing_values.where(parquet_df_without_missing_values['high'] == 0).groupby('stock').count().show()"
      ],
      "metadata": {
        "colab": {
          "base_uri": "https://localhost:8080/"
        },
        "id": "mT4nqZqOUBtx",
        "outputId": "294fb1c5-7c3b-49a9-8611-fff7e3cb4672"
      },
      "execution_count": null,
      "outputs": [
        {
          "output_type": "stream",
          "name": "stdout",
          "text": [
            "+-----+-----+\n",
            "|stock|count|\n",
            "+-----+-----+\n",
            "|  CAT|   20|\n",
            "+-----+-----+\n",
            "\n"
          ]
        }
      ]
    },
    {
      "cell_type": "code",
      "source": [
        "#Zeros per stock for 'volume' column\n",
        "parquet_df_without_missing_values.where(parquet_df_without_missing_values['volume'] == 0).groupby('stock').count().show()"
      ],
      "metadata": {
        "colab": {
          "base_uri": "https://localhost:8080/"
        },
        "id": "uLs-YzJMUQKD",
        "outputId": "a25dea3c-5eef-4bb6-dc9b-44d513e58933"
      },
      "execution_count": null,
      "outputs": [
        {
          "output_type": "stream",
          "name": "stdout",
          "text": [
            "+-----+-----+\n",
            "|stock|count|\n",
            "+-----+-----+\n",
            "|  XOM|   22|\n",
            "|  JNJ|    4|\n",
            "|   GE|    1|\n",
            "+-----+-----+\n",
            "\n"
          ]
        }
      ]
    },
    {
      "cell_type": "code",
      "source": [
        "# Extracting month\n",
        "\n",
        "month_col_added_df = parquet_df_without_missing_values.withColumn('month', F.month(parquet_df_without_missing_values['date']))\n",
        "month_col_added_df.show(10)"
      ],
      "metadata": {
        "colab": {
          "base_uri": "https://localhost:8080/"
        },
        "id": "T9dBPpXWY5UU",
        "outputId": "8030206d-6881-4742-cc3f-281fdaf881c0"
      },
      "execution_count": null,
      "outputs": [
        {
          "output_type": "stream",
          "name": "stdout",
          "text": [
            "+----------+-----------+-----------+----------+----------+------------+---------+-----+-----+\n",
            "|      date|       open|       high|       low|     close|   adj_close|   volume|stock|month|\n",
            "+----------+-----------+-----------+----------+----------+------------+---------+-----+-----+\n",
            "|1962-02-19|    5.83929|   5.907375|   5.83929|   5.86332|   1.3863293|  29900.0|   AA|    2|\n",
            "|1962-02-19|   5.481634|   5.528486|  5.481634| 5.5167727|   1.2804527|  32000.0| ARNC|    2|\n",
            "|1962-02-19|  0.9074074| 0.91563785|0.89917696| 0.9032922|  0.16141544| 619400.0|   BA|    2|\n",
            "|1962-02-19|  1.6770834|  1.6927084| 1.6614584| 1.6770834|   0.1440587| 170400.0|  CAT|    2|\n",
            "|1962-02-19|        0.0|   3.578869|      20.0|  3.549107| 0.056501225| 273600.0|  CVX|    2|\n",
            "|1962-02-19|0.099767394|0.099767394|0.09820853|0.09820853| 0.037543412| 817400.0|  DIS|    2|\n",
            "|1962-02-19|        0.0|    29.9375|     29.75|   29.9375|  0.49964145|   1600.0|  DTE|    2|\n",
            "|1962-02-19|        0.0|   9.921875|  9.890625|  9.921875|  0.22499175|   8800.0|   ED|    2|\n",
            "|1962-02-19|        0.0|  7.0833335| 7.0208335| 7.0208335|  0.91296524|  20400.0|   FL|    2|\n",
            "|1962-02-19| 0.77373797|   0.777494|0.76372194|  0.767478|0.0018262818|1557500.0|   GE|    2|\n",
            "+----------+-----------+-----------+----------+----------+------------+---------+-----+-----+\n",
            "only showing top 10 rows\n",
            "\n"
          ]
        }
      ]
    },
    {
      "cell_type": "code",
      "source": [
        "# zeros per month in the 'open' column\n",
        "month_col_added_df.where(month_col_added_df['open'] == 0).groupby('month').count().show()"
      ],
      "metadata": {
        "colab": {
          "base_uri": "https://localhost:8080/"
        },
        "id": "PQWEknjYarQl",
        "outputId": "dd09b856-6735-4ff8-e2a6-9795c6f4c884"
      },
      "execution_count": null,
      "outputs": [
        {
          "output_type": "stream",
          "name": "stdout",
          "text": [
            "+-----+-----+\n",
            "|month|count|\n",
            "+-----+-----+\n",
            "|   12|  200|\n",
            "|    1|  242|\n",
            "|    6|  210|\n",
            "|    3|  242|\n",
            "|    5|  242|\n",
            "|    9|  228|\n",
            "|    4|  220|\n",
            "|    8|  230|\n",
            "|    7|  210|\n",
            "|   10|  253|\n",
            "|   11|  220|\n",
            "|    2|  209|\n",
            "+-----+-----+\n",
            "\n"
          ]
        }
      ]
    },
    {
      "cell_type": "markdown",
      "source": [
        "1. There is some even distribution for zeros across all the months for the 'open' column\n",
        "2. The zeros constitutes more than 50% of the data\n",
        "3. The zeros can be replaced with the mean of the data "
      ],
      "metadata": {
        "id": "oWnNYv6Bcukm"
      }
    },
    {
      "cell_type": "code",
      "source": [
        "# zeros per month in the 'high' column\n",
        "month_col_added_df.where(month_col_added_df['high'] == 0).groupby('month').count().show()"
      ],
      "metadata": {
        "colab": {
          "base_uri": "https://localhost:8080/"
        },
        "id": "XS5uq4aIbU9M",
        "outputId": "a466bda4-8e6f-43e6-9418-2ac3fbed3b67"
      },
      "execution_count": null,
      "outputs": [
        {
          "output_type": "stream",
          "name": "stdout",
          "text": [
            "+-----+-----+\n",
            "|month|count|\n",
            "+-----+-----+\n",
            "|   11|   20|\n",
            "+-----+-----+\n",
            "\n"
          ]
        }
      ]
    },
    {
      "cell_type": "markdown",
      "source": [
        "1. There is a small percentage of zeros data in the 'high' data\n",
        "2. The column can be left as is though further investigations need to be carried out on why this happened on this particular month"
      ],
      "metadata": {
        "id": "ASp2GFR8lubZ"
      }
    },
    {
      "cell_type": "code",
      "source": [
        "# zeros per month in the 'volume' column\n",
        "month_col_added_df.where(month_col_added_df['volume'] == 0).groupby('month').count().show()"
      ],
      "metadata": {
        "colab": {
          "base_uri": "https://localhost:8080/"
        },
        "id": "mdhNo9axbkhQ",
        "outputId": "ba142ea8-dd53-49db-d62d-d4fddd36854e"
      },
      "execution_count": null,
      "outputs": [
        {
          "output_type": "stream",
          "name": "stdout",
          "text": [
            "+-----+-----+\n",
            "|month|count|\n",
            "+-----+-----+\n",
            "|    1|    1|\n",
            "|    5|   22|\n",
            "|    9|    1|\n",
            "|    4|    1|\n",
            "|   10|    1|\n",
            "|   11|    1|\n",
            "+-----+-----+\n",
            "\n"
          ]
        }
      ]
    },
    {
      "cell_type": "markdown",
      "source": [
        "1. For variable 'volume', it seems like quite a few zeros are included\n",
        "2. the column data can be left as is\n",
        "3. Further investigations need to be carried out for the month of May "
      ],
      "metadata": {
        "id": "37TEjeEWmWwd"
      }
    },
    {
      "cell_type": "markdown",
      "metadata": {
        "id": "gy7-maSSiNLq"
      },
      "source": [
        "> ℹ️ **Instructions** ℹ️\n",
        ">\n",
        "> Once you have identified the column that needs to undergo imputation, update the values for the affected records by using the average value for the affected stock.\n",
        ">\n",
        ">*You may use as many coding cells as necessary.*"
      ]
    },
    {
      "cell_type": "code",
      "execution_count": null,
      "metadata": {
        "id": "HjRI6UHPiNLq"
      },
      "outputs": [],
      "source": [
        "#TODO: Write your code here\n",
        "updated_parquet_df = parquet_df_without_missing_values.withColumn('open', F.when(F.col('open')==0,parquet_df_without_missing_values.agg(F.avg('open')).collect()[0][0]).otherwise(F.col('open')))"
      ]
    },
    {
      "cell_type": "code",
      "source": [
        "# check if the zero values have been replaced in the volume column\n",
        "updated_parquet_df.filter(F.col('open')==0).show()"
      ],
      "metadata": {
        "colab": {
          "base_uri": "https://localhost:8080/"
        },
        "id": "7nY8q6RwoJmb",
        "outputId": "956b24cd-2c3b-40ee-b6ad-a006c7dda35e"
      },
      "execution_count": null,
      "outputs": [
        {
          "output_type": "stream",
          "name": "stdout",
          "text": [
            "+----+----+----+---+-----+---------+------+-----+\n",
            "|date|open|high|low|close|adj_close|volume|stock|\n",
            "+----+----+----+---+-----+---------+------+-----+\n",
            "+----+----+----+---+-----+---------+------+-----+\n",
            "\n"
          ]
        }
      ]
    },
    {
      "cell_type": "markdown",
      "metadata": {
        "id": "wm_Jy6bliNLr"
      },
      "source": [
        "\n",
        "## Consistency\n",
        "\n",
        "Consistency is the absence of difference when comparing two or more representations of a thing against a reference.\n",
        "\n",
        "Data entries that refer to the same record or entity have to be consistent across all entries, e.g., if you are dealing with records from a logger in the field, the entries for that logger have to remain consistent, and the name or primary key of that logger cannot change from one entry to another. \n",
        "\n",
        "For example, 'Logger1', 'Loger1' and 'Logge1' are examples of inconsistent keys. \n",
        "\n",
        "This is not just within a single table but also becomes more important if you are dealing with relational data. In which case, the mappings between tables and systems must be consistent. If not, the relationships will be completely lost between the tables and referential integrity compromised. \n",
        "\n",
        "- **Measured by**: Analysis of pattern and/or value frequency;\n",
        "- **Units**: Percentage;\n",
        "- **Related to**: Accuracy, Validity, and Uniqueness."
      ]
    },
    {
      "cell_type": "markdown",
      "metadata": {
        "id": "cKa33Mh9iNLr"
      },
      "source": [
        "> ℹ️ **Instructions** ℹ️\n",
        ">\n",
        "> There currently exists a stock that has inconsistent naming. Make use of the metadata to determine which stock is inconsistently named, then update the dataframe appropriately to get rid of this inconsistency.\n",
        ">\n",
        ">*You may use as many coding cells as necessary.*"
      ]
    },
    {
      "cell_type": "code",
      "execution_count": null,
      "metadata": {
        "id": "SRdDNJftiNLr",
        "colab": {
          "base_uri": "https://localhost:8080/"
        },
        "outputId": "28d9eb2a-d470-4da6-c90c-876d67a08004"
      },
      "outputs": [
        {
          "output_type": "execute_result",
          "data": {
            "text/plain": [
              "['ARNCA']"
            ]
          },
          "metadata": {},
          "execution_count": 44
        }
      ],
      "source": [
        "#TODO: Write your code here\n",
        "list(set(updated_parquet_df.select('stock').rdd.flatMap(lambda x:x).collect())-set(symbols_valid_metadata_df.select('Symbol').rdd.flatMap(lambda x:x).collect()))"
      ]
    },
    {
      "cell_type": "code",
      "source": [
        "symbols_valid_metadata_df.createOrReplaceTempView(\"metadata\")"
      ],
      "metadata": {
        "id": "ZsX80vytuPXj"
      },
      "execution_count": null,
      "outputs": []
    },
    {
      "cell_type": "code",
      "source": [
        "spark.sql(\"select * from metadata where Symbol like 'ARN%'\").show()"
      ],
      "metadata": {
        "colab": {
          "base_uri": "https://localhost:8080/"
        },
        "id": "vtG9QNyZudBq",
        "outputId": "241c3d9a-df06-4fde-ddf2-91e2fec8ed14"
      },
      "execution_count": null,
      "outputs": [
        {
          "output_type": "stream",
          "name": "stdout",
          "text": [
            "+-------------+------+--------------------+----------------+---------------+---+--------------+----------+----------------+----------+-------------+----------+\n",
            "|Nasdaq Traded|Symbol|       Security Name|Listing Exchange|Market Category|ETF|Round Lot Size|Test Issue|Financial Status|CQS Symbol|NASDAQ Symbol|NextShares|\n",
            "+-------------+------+--------------------+----------------+---------------+---+--------------+----------+----------------+----------+-------------+----------+\n",
            "|            Y|  ARNA|Arena Pharmaceuti...|               Q|              Q|  N|         100.0|         N|               N|      null|         ARNA|         N|\n",
            "|            Y|  ARNC|Arconic Corporati...|               N|               |  N|         100.0|         N|            null|      ARNC|         ARNC|         N|\n",
            "+-------------+------+--------------------+----------------+---------------+---+--------------+----------+----------------+----------+-------------+----------+\n",
            "\n"
          ]
        }
      ]
    },
    {
      "cell_type": "code",
      "source": [
        "updated_parquet_df.select(\"*\").where(F.col('stock')=='ARNC').count()"
      ],
      "metadata": {
        "colab": {
          "base_uri": "https://localhost:8080/"
        },
        "id": "14Adv1WPuzKJ",
        "outputId": "bf5c11b5-0846-4314-9e3b-cfb1c04e3191"
      },
      "execution_count": null,
      "outputs": [
        {
          "output_type": "execute_result",
          "data": {
            "text/plain": [
              "231"
            ]
          },
          "metadata": {},
          "execution_count": 46
        }
      ]
    },
    {
      "cell_type": "code",
      "source": [
        "updated_parquet_df.select(\"*\").where(F.col('stock')=='ARNA').count()"
      ],
      "metadata": {
        "colab": {
          "base_uri": "https://localhost:8080/"
        },
        "id": "vQXxfRysu_2X",
        "outputId": "2e2ef8a7-72f6-4061-b310-c4502e7b6b1d"
      },
      "execution_count": null,
      "outputs": [
        {
          "output_type": "execute_result",
          "data": {
            "text/plain": [
              "0"
            ]
          },
          "metadata": {},
          "execution_count": 47
        }
      ]
    },
    {
      "cell_type": "code",
      "source": [
        "updated_parquet_df.select(\"*\").where(F.col('stock')=='ARNCA').count()"
      ],
      "metadata": {
        "colab": {
          "base_uri": "https://localhost:8080/"
        },
        "id": "OA704YE-vclq",
        "outputId": "1440b291-febf-4565-e63d-db2acd0f0639"
      },
      "execution_count": null,
      "outputs": [
        {
          "output_type": "execute_result",
          "data": {
            "text/plain": [
              "21"
            ]
          },
          "metadata": {},
          "execution_count": 48
        }
      ]
    },
    {
      "cell_type": "code",
      "source": [
        "# Replace ARNCA with ARNC\n",
        "consistency_solved_df = updated_parquet_df.withColumn('stock', F.regexp_replace('stock', 'ARNCA', 'ARNC'))\n",
        "consistency_solved_df.show(5)"
      ],
      "metadata": {
        "colab": {
          "base_uri": "https://localhost:8080/"
        },
        "id": "HSp8OvnAvufp",
        "outputId": "8a729b53-57c6-4a86-8675-bc16a9fac0e0"
      },
      "execution_count": null,
      "outputs": [
        {
          "output_type": "stream",
          "name": "stdout",
          "text": [
            "+----------+------------------+----------+----------+---------+-----------+--------+-----+\n",
            "|      date|              open|      high|       low|    close|  adj_close|  volume|stock|\n",
            "+----------+------------------+----------+----------+---------+-----------+--------+-----+\n",
            "|1962-02-19| 5.839290142059326|  5.907375|   5.83929|  5.86332|  1.3863293| 29900.0|   AA|\n",
            "|1962-02-19| 5.481634140014648|  5.528486|  5.481634|5.5167727|  1.2804527| 32000.0| ARNC|\n",
            "|1962-02-19|0.9074074029922485|0.91563785|0.89917696|0.9032922| 0.16141544|619400.0|   BA|\n",
            "|1962-02-19|1.6770833730697632| 1.6927084| 1.6614584|1.6770834|  0.1440587|170400.0|  CAT|\n",
            "|1962-02-19|1.1014219280169133|  3.578869|      20.0| 3.549107|0.056501225|273600.0|  CVX|\n",
            "+----------+------------------+----------+----------+---------+-----------+--------+-----+\n",
            "only showing top 5 rows\n",
            "\n"
          ]
        }
      ]
    },
    {
      "cell_type": "code",
      "source": [
        "# Check if the inconsistency is still there\n",
        "list(set(consistency_solved_df.select('stock').rdd.flatMap(lambda x:x).collect())-set(symbols_valid_metadata_df.select('Symbol').rdd.flatMap(lambda x:x).collect()))"
      ],
      "metadata": {
        "colab": {
          "base_uri": "https://localhost:8080/"
        },
        "id": "oARnY6IZv9Yh",
        "outputId": "89f5d80e-bb81-4e7b-e030-bc1a5727a319"
      },
      "execution_count": null,
      "outputs": [
        {
          "output_type": "execute_result",
          "data": {
            "text/plain": [
              "[]"
            ]
          },
          "metadata": {},
          "execution_count": 50
        }
      ]
    },
    {
      "cell_type": "markdown",
      "metadata": {
        "id": "24O1LRgXiNLr"
      },
      "source": [
        "## Timeliness\n",
        "\n",
        "Timeliness is the degree to which data represent reality from the required point in time.\n",
        "\n",
        "Timeliness expects that the data within your dataset is sufficiently up to date. If you are trying to answer questions that relate to recent problems, having timely data is extremely important. For example, you cannot use current flight patterns to model how many aeroplanes will be required by a large aeronautics company within the next 5-10 years. \n",
        "\n",
        "Similarly, when answering questions that require real-time answers (e.g., predicting when a pipe will burst in a manufacturing plant), you have to be set up to receive real-time data from sensors and loggers. \n",
        "\n",
        "- **Measured by**: Time difference;\n",
        "- **Units**: Time;\n",
        "- **Related to**: Accuracy because it will decay as time progress. "
      ]
    },
    {
      "cell_type": "markdown",
      "metadata": {
        "id": "11oKIxodiNLs"
      },
      "source": [
        "It is important to see the latest value for each of the stocks that we are looking at:"
      ]
    },
    {
      "cell_type": "code",
      "source": [
        "#before\n",
        "parquet_df.groupBy('stock').agg(F.max('date')).show()"
      ],
      "metadata": {
        "colab": {
          "base_uri": "https://localhost:8080/"
        },
        "id": "NWZFsUMgwwFG",
        "outputId": "8ed963e6-f2dd-4637-d2d7-d2d7da184fab"
      },
      "execution_count": null,
      "outputs": [
        {
          "output_type": "stream",
          "name": "stdout",
          "text": [
            "+-----+----------+\n",
            "|stock| max(date)|\n",
            "+-----+----------+\n",
            "|   AA|1962-12-31|\n",
            "|  XOM|1962-12-31|\n",
            "|  DIS|1962-12-31|\n",
            "|ARNCA|1962-07-31|\n",
            "|   PG|1962-12-31|\n",
            "|   GT|1962-12-31|\n",
            "|   MO|1962-12-31|\n",
            "|  IBM|1962-12-31|\n",
            "|  JNJ|1962-12-31|\n",
            "|  CVX|1962-12-31|\n",
            "|  DTE|1962-12-31|\n",
            "|   BA|1962-12-31|\n",
            "|   GE|1962-12-31|\n",
            "|  HPQ|1962-12-31|\n",
            "| ARNC|1962-12-31|\n",
            "|  CAT|1962-12-31|\n",
            "|   IP|1962-12-31|\n",
            "|   FL|1962-12-31|\n",
            "|   ED|1962-12-31|\n",
            "|  NAV|1962-12-31|\n",
            "+-----+----------+\n",
            "only showing top 20 rows\n",
            "\n"
          ]
        }
      ]
    },
    {
      "cell_type": "code",
      "source": [
        "#after\n",
        "consistency_solved_df.groupBy('stock').agg(F.max('date')).show()"
      ],
      "metadata": {
        "colab": {
          "base_uri": "https://localhost:8080/"
        },
        "id": "jkUyC39ow_4a",
        "outputId": "fe3154d3-ef15-4e5e-98ce-db7ff5ee98e5"
      },
      "execution_count": null,
      "outputs": [
        {
          "output_type": "stream",
          "name": "stdout",
          "text": [
            "+-----+----------+\n",
            "|stock| max(date)|\n",
            "+-----+----------+\n",
            "|   AA|1962-12-31|\n",
            "|  XOM|1962-12-31|\n",
            "|  DIS|1962-12-31|\n",
            "|   PG|1962-12-31|\n",
            "|   GT|1962-12-31|\n",
            "|   MO|1962-12-31|\n",
            "|  IBM|1962-12-31|\n",
            "|  JNJ|1962-12-31|\n",
            "|  CVX|1962-12-31|\n",
            "|  DTE|1962-12-31|\n",
            "|   BA|1962-12-31|\n",
            "|   GE|1962-12-31|\n",
            "|  HPQ|1962-12-31|\n",
            "| ARNC|1962-12-31|\n",
            "|  CAT|1962-12-31|\n",
            "|   IP|1962-12-31|\n",
            "|   FL|1962-12-31|\n",
            "|   ED|1962-12-31|\n",
            "|  NAV|1962-11-30|\n",
            "|   KO|1962-12-31|\n",
            "+-----+----------+\n",
            "\n"
          ]
        }
      ]
    },
    {
      "cell_type": "markdown",
      "source": [
        "1. inconsistencies removed"
      ],
      "metadata": {
        "id": "HkV8kJphC6gO"
      }
    },
    {
      "cell_type": "markdown",
      "metadata": {
        "id": "v9lvFbFsiNLt"
      },
      "source": [
        "Sometimes, some of these axes of data quality will be less important than others. \n",
        "This is one of those cases where it is less important to have timely data, since \n",
        "we are trying to create a training dataset for a stock market prediction algorithm. \n",
        "\n",
        "It is important to know the context in which you are doing your modelling. "
      ]
    },
    {
      "cell_type": "markdown",
      "metadata": {
        "id": "NtXuXv9ciNLt"
      },
      "source": [
        "### Gaps in the dataset\n",
        "\n",
        "Let's see if we can find inconsistencies in the time series by having a look at the number of entries for each of the tickers.\n",
        " \n",
        "> ℹ️ **Instructions** ℹ️\n",
        ">\n",
        "> Uncomment and use the below code to determine which dates had entries that were not equal to 20. You may have to change the name of the dataframe to see the resultant output\n",
        ">\n",
        ">*You may use as many coding cells as necessary.*"
      ]
    },
    {
      "cell_type": "code",
      "execution_count": null,
      "metadata": {
        "id": "BdVL8LA-iNLt",
        "colab": {
          "base_uri": "https://localhost:8080/"
        },
        "outputId": "86ebfec0-5637-476d-bc83-5bd5a00bddc8"
      },
      "outputs": [
        {
          "output_type": "stream",
          "name": "stdout",
          "text": [
            "+----------+-----+\n",
            "|      date|count|\n",
            "+----------+-----+\n",
            "|1962-02-06|   23|\n",
            "|1962-09-18|   21|\n",
            "|1962-09-10|   21|\n",
            "|1962-09-13|   21|\n",
            "|1962-02-27|   23|\n",
            "|1962-02-15|   23|\n",
            "|1962-02-16|   23|\n",
            "|1962-02-08|   23|\n",
            "|1962-02-02|   23|\n",
            "|1962-09-20|   21|\n",
            "|1962-09-19|   21|\n",
            "|1962-02-13|   23|\n",
            "|1962-02-01|   23|\n",
            "|1962-09-07|   21|\n",
            "|1962-09-21|   21|\n",
            "|1962-02-28|   23|\n",
            "|1962-02-23|   23|\n",
            "|1962-02-19|   23|\n",
            "|1962-02-07|   23|\n",
            "|1962-09-06|   21|\n",
            "|1962-09-28|   21|\n",
            "|1962-09-14|   21|\n",
            "|1962-09-17|   21|\n",
            "|1962-02-12|   23|\n",
            "|1962-02-09|   23|\n",
            "|1962-09-12|   21|\n",
            "|1962-02-14|   23|\n",
            "|1962-02-21|   23|\n",
            "|1962-09-26|   21|\n",
            "|1962-02-26|   23|\n",
            "|1962-09-04|   21|\n",
            "|1962-09-05|   21|\n",
            "|1962-09-25|   21|\n",
            "|1962-09-11|   21|\n",
            "|1962-09-27|   21|\n",
            "|1962-02-05|   23|\n",
            "|1962-09-24|   21|\n",
            "|1962-02-20|   23|\n",
            "|1962-12-12|   19|\n",
            "|1962-12-07|   19|\n",
            "|1962-12-14|   19|\n",
            "|1962-12-11|   19|\n",
            "|1962-12-17|   19|\n",
            "|1962-12-06|   19|\n",
            "|1962-12-04|   19|\n",
            "|1962-12-13|   19|\n",
            "|1962-12-10|   19|\n",
            "|1962-12-05|   19|\n",
            "+----------+-----+\n",
            "\n"
          ]
        }
      ],
      "source": [
        "parquet_df.orderBy('date').groupby('date').count().where(F.col('count') != 20).show(400)"
      ]
    },
    {
      "cell_type": "markdown",
      "metadata": {
        "id": "iLSXpZbWiNLt"
      },
      "source": [
        "> ℹ️ **Instructions** ℹ️\n",
        ">\n",
        "> From the above result, investigate the number of times a stock appears for the given month. You can infer the months by using the output of the previous cell.\n",
        ">\n",
        ">*You may use as many coding cells as necessary.*"
      ]
    },
    {
      "cell_type": "code",
      "execution_count": null,
      "metadata": {
        "id": "FMhBbHg_iNLu",
        "colab": {
          "base_uri": "https://localhost:8080/"
        },
        "outputId": "5d6d0721-bc4c-4238-87d0-d826b31525b3"
      },
      "outputs": [
        {
          "output_type": "stream",
          "name": "stdout",
          "text": [
            "+-----------+-----+-----+\n",
            "|month(date)|stock|count|\n",
            "+-----------+-----+-----+\n",
            "|          1|   GE|   22|\n",
            "|          1|   ED|   22|\n",
            "|          1|  XOM|   22|\n",
            "|          1|  DTE|   22|\n",
            "|          1|   KO|   22|\n",
            "|          1|   BA|   22|\n",
            "|          1| ARNC|   22|\n",
            "|          1|  JNJ|   22|\n",
            "|          1|  CAT|   22|\n",
            "|          1|   MO|   22|\n",
            "|          1|   GT|   22|\n",
            "|          1|   FL|   22|\n",
            "|          1|  NAV|   22|\n",
            "|          1|  IBM|   22|\n",
            "|          1|  CVX|   22|\n",
            "|          1|   PG|   22|\n",
            "|          1|   IP|   22|\n",
            "|          1|  DIS|   22|\n",
            "|          1|  HPQ|   22|\n",
            "|          1|   AA|   22|\n",
            "|          2|   GE|   19|\n",
            "|          2|  DTE|   19|\n",
            "|          2|   BA|   19|\n",
            "|          2|   GT|   19|\n",
            "|          2|   IP|   19|\n",
            "|          2|   FL|   19|\n",
            "|          2|  CVX|   19|\n",
            "|          2|  HPQ|   76|\n",
            "|          2|  XOM|   19|\n",
            "|          2| ARNC|   19|\n",
            "|          2|   ED|   19|\n",
            "|          2|   KO|   19|\n",
            "|          2|  NAV|   19|\n",
            "|          2|  DIS|   19|\n",
            "|          2|   PG|   19|\n",
            "|          2|  CAT|   19|\n",
            "|          2|  JNJ|   19|\n",
            "|          2|   MO|   19|\n",
            "|          2|   AA|   19|\n",
            "|          2|  IBM|   19|\n",
            "|          3|  DIS|   22|\n",
            "|          3|   ED|   22|\n",
            "|          3|   BA|   22|\n",
            "|          3|  DTE|   22|\n",
            "|          3|   KO|   22|\n",
            "|          3|  IBM|   22|\n",
            "|          3|   PG|   22|\n",
            "|          3|   GE|   22|\n",
            "|          3|  CVX|   22|\n",
            "|          3|  XOM|   22|\n",
            "|          3|   AA|   22|\n",
            "|          3|  NAV|   22|\n",
            "|          3|   MO|   22|\n",
            "|          3|   IP|   22|\n",
            "|          3|   FL|   22|\n",
            "|          3|   GT|   22|\n",
            "|          3| ARNC|   22|\n",
            "|          3|  HPQ|   22|\n",
            "|          3|  JNJ|   22|\n",
            "|          4|  JNJ|   20|\n",
            "|          4|  CVX|   20|\n",
            "|          4|   IP|   20|\n",
            "|          4|   GT|   20|\n",
            "|          4|  IBM|   20|\n",
            "|          4|   ED|   20|\n",
            "|          4|  HPQ|   20|\n",
            "|          4|  XOM|   20|\n",
            "|          4|   MO|   20|\n",
            "|          4|   FL|   20|\n",
            "|          4|  NAV|   20|\n",
            "|          4|   GE|   20|\n",
            "|          4| ARNC|   20|\n",
            "|          4|  DIS|   20|\n",
            "|          4|   KO|   20|\n",
            "|          4|   BA|   20|\n",
            "|          4|  DTE|   20|\n",
            "|          4|   PG|   20|\n",
            "|          4|   AA|   20|\n",
            "|          4|  CAT|   20|\n",
            "|          5|  CVX|   22|\n",
            "|          5|  IBM|   22|\n",
            "|          5|   IP|   22|\n",
            "|          5|  CAT|   22|\n",
            "|          5|   ED|   22|\n",
            "|          5|   AA|   22|\n",
            "|          5|  NAV|   22|\n",
            "|          5|   FL|   22|\n",
            "|          5| ARNC|   22|\n",
            "|          5|  HPQ|   22|\n",
            "|          5|   MO|   22|\n",
            "|          5|  DIS|   22|\n",
            "|          5|   GT|   22|\n",
            "|          5|   KO|   22|\n",
            "|          5|  XOM|   22|\n",
            "|          5|   GE|   22|\n",
            "|          5|   PG|   22|\n",
            "|          5|  JNJ|   22|\n",
            "|          5|  DTE|   22|\n",
            "|          5|   BA|   22|\n",
            "|          6|  CAT|   21|\n",
            "|          6| ARNC|   21|\n",
            "|          6|   MO|   21|\n",
            "|          6|   AA|   21|\n",
            "|          6|  IBM|   21|\n",
            "|          6|  HPQ|   21|\n",
            "|          6|  DTE|   21|\n",
            "|          6|   PG|   21|\n",
            "|          6|   ED|   21|\n",
            "|          6|  DIS|   21|\n",
            "|          6|  CVX|   21|\n",
            "|          6|   BA|   21|\n",
            "|          6|  XOM|   21|\n",
            "|          6|   IP|   21|\n",
            "|          6|  NAV|   21|\n",
            "|          6|   GT|   21|\n",
            "|          6|  JNJ|   21|\n",
            "|          6|   KO|   21|\n",
            "|          6|   GE|   21|\n",
            "|          7|   ED|   21|\n",
            "|          7|   PG|   21|\n",
            "|          7|   KO|   21|\n",
            "|          7|   IP|   21|\n",
            "|          7|   GT|   21|\n",
            "|          7|   FL|   21|\n",
            "|          7|   MO|   21|\n",
            "|          7|  DIS|   21|\n",
            "|          7|  XOM|   21|\n",
            "|          7| ARNC|   21|\n",
            "|          7|  DTE|   21|\n",
            "|          7|  NAV|   21|\n",
            "|          7|  CAT|   21|\n",
            "|          7|   BA|   21|\n",
            "|          7|  IBM|   21|\n",
            "|          7|   GE|   21|\n",
            "|          7|   AA|   21|\n",
            "|          7|  CVX|   21|\n",
            "|          7|  HPQ|   21|\n",
            "|          8|  XOM|   23|\n",
            "|          8|  JNJ|   23|\n",
            "|          8|   GT|   23|\n",
            "|          8|  HPQ|   23|\n",
            "|          8|  NAV|   23|\n",
            "|          8|  DIS|   23|\n",
            "|          8|   AA|   23|\n",
            "|          8|  CVX|   23|\n",
            "|          8|   MO|   23|\n",
            "|          8|  DTE|   23|\n",
            "|          8|   PG|   23|\n",
            "|          8|   GE|   23|\n",
            "|          8|  IBM|   23|\n",
            "|          8|  CAT|   23|\n",
            "|          8|   FL|   23|\n",
            "|          8|   BA|   23|\n",
            "|          8|   KO|   23|\n",
            "|          8|   IP|   23|\n",
            "|          8|   ED|   23|\n",
            "|          8| ARNC|   23|\n",
            "|          9|   KO|   19|\n",
            "|          9|  XOM|   19|\n",
            "|          9|   PG|   19|\n",
            "|          9|  IBM|   19|\n",
            "|          9|  JNJ|   19|\n",
            "|          9|   MO|   19|\n",
            "|          9|   GE|   19|\n",
            "|          9|  DIS|   19|\n",
            "|          9|  CAT|   19|\n",
            "|          9|   ED|   38|\n",
            "|          9|   AA|   19|\n",
            "|          9|   BA|   19|\n",
            "|          9|  HPQ|   19|\n",
            "|          9|   IP|   19|\n",
            "|          9|  NAV|   19|\n",
            "|          9| ARNC|   19|\n",
            "|          9|  DTE|   19|\n",
            "|          9|  CVX|   19|\n",
            "|          9|   GT|   19|\n",
            "|          9|   FL|   19|\n",
            "|         10|   AA|   23|\n",
            "|         10|   GT|   23|\n",
            "|         10|  HPQ|   23|\n",
            "|         10|   IP|   23|\n",
            "|         10|   KO|   23|\n",
            "|         10|  CVX|   23|\n",
            "|         10|   FL|   23|\n",
            "|         10|  DIS|   23|\n",
            "|         10| ARNC|   23|\n",
            "|         10|   ED|   23|\n",
            "|         10|  DTE|   23|\n",
            "|         10|   BA|   23|\n",
            "|         10|  CAT|   23|\n",
            "|         10|  IBM|   23|\n",
            "|         10|   MO|   23|\n",
            "|         10|   PG|   23|\n",
            "|         10|  XOM|   23|\n",
            "|         10|  JNJ|   23|\n",
            "|         10|  NAV|   23|\n",
            "|         10|   GE|   23|\n",
            "|         11|   FL|   20|\n",
            "|         11|  IBM|   20|\n",
            "|         11|   AA|   20|\n",
            "|         11|  JNJ|   20|\n",
            "|         11|  CAT|   20|\n",
            "|         11|   BA|   20|\n",
            "|         11|  HPQ|   20|\n",
            "|         11|  DTE|   20|\n",
            "|         11|  CVX|   20|\n",
            "|         11|   GT|   20|\n",
            "|         11|   ED|   20|\n",
            "|         11| ARNC|   20|\n",
            "|         11|   GE|   20|\n",
            "|         11|  NAV|   20|\n",
            "|         11|   KO|   20|\n",
            "|         11|  XOM|   20|\n",
            "|         11|   PG|   20|\n",
            "|         11|   MO|   20|\n",
            "|         11|  DIS|   20|\n",
            "|         11|   IP|   20|\n",
            "|         12|   FL|   20|\n",
            "|         12|   GT|   20|\n",
            "|         12|  CVX|   20|\n",
            "|         12|   ED|   20|\n",
            "|         12|  IBM|   20|\n",
            "|         12|   KO|   20|\n",
            "|         12|  CAT|   20|\n",
            "|         12|   PG|   20|\n",
            "|         12|   GE|   20|\n",
            "|         12|  JNJ|   20|\n",
            "|         12|  DIS|   20|\n",
            "|         12|  XOM|   20|\n",
            "|         12|   MO|   20|\n",
            "|         12|   BA|   10|\n",
            "|         12|   AA|   20|\n",
            "|         12|  DTE|   20|\n",
            "|         12|  HPQ|   20|\n",
            "|         12| ARNC|   20|\n",
            "|         12|   IP|   20|\n",
            "+-----------+-----+-----+\n",
            "\n"
          ]
        }
      ],
      "source": [
        "#TODO: Write your code here\n",
        "consistency_solved_df.groupby(F.month('date'),'stock').count().orderBy('month(date)').show(400)"
      ]
    },
    {
      "cell_type": "markdown",
      "metadata": {
        "id": "CFTnuo-xiNLu"
      },
      "source": [
        "## Uniqueness\n",
        "\n",
        "Uniqueness requires that nothing will be recorded more than once based upon how that thing is identified. It is the inverse of an assessment of the level of duplication.\n",
        "\n",
        "Each entry within the dataset should only relate to a single event that has occurred and thus should not be duplicated. This is largely mediated by having the appropriate primary key, which means sticking to the requirements of a good primary key. All fields in the tables should be non-transitively dependent on the primary key.\n",
        "\n",
        "As such, deduplication of the dataset may be required. \n",
        "\n",
        "- **Measured by**: Analysis of the number of things assessed in the “real world” compared to the number of records of things in the dataset. This requires a reference dataset which is the ground truth;\n",
        "- **Units**: Percentage;\n",
        "- **Related to**: Consistency."
      ]
    },
    {
      "cell_type": "markdown",
      "metadata": {
        "id": "8-Zr7EqoiNLu"
      },
      "source": [
        "### Duplication Test\n",
        "For time-series data, it is important to check for duplications, as we typically expect all values to be unique within the dataset.\n",
        "\n",
        "The first thing to check will be if the primary key values within the dataset are unique - in our case, that will be a combination of the stock name and the date.\n",
        "\n",
        "Secondly, we want to check if the entries are all unique, which is done by checking for duplicates across that whole dataset."
      ]
    },
    {
      "cell_type": "markdown",
      "metadata": {
        "id": "_OljfXHpiNLu"
      },
      "source": [
        "> ℹ️ **Instructions** ℹ️\n",
        ">\n",
        "> Write code to determine if there are any duplicates within the data, and then proceed to correct this by dropping them from the dataframe.\n",
        ">\n",
        ">*You may use as many coding cells as necessary.*"
      ]
    },
    {
      "cell_type": "code",
      "execution_count": null,
      "metadata": {
        "id": "vRyLTSwHiNLu",
        "colab": {
          "base_uri": "https://localhost:8080/"
        },
        "outputId": "9a2cd7db-40b2-474a-f950-acbce5e6737c"
      },
      "outputs": [
        {
          "output_type": "stream",
          "name": "stdout",
          "text": [
            "+----------+-------------------+-----------+-----------+-----------+------------+--------+-----+-----+\n",
            "|      date|               open|       high|        low|      close|   adj_close|  volume|stock|count|\n",
            "+----------+-------------------+-----------+-----------+-----------+------------+--------+-----+-----+\n",
            "|1962-02-15| 0.1126461774110794| 0.11264618| 0.10998524|0.111315705| 0.006173956|817300.0|  HPQ|    4|\n",
            "|1962-02-26|0.11619408428668976|0.118855014| 0.11530711| 0.11796804| 0.006542919|845500.0|  HPQ|    4|\n",
            "|1962-02-14|0.11442013084888458|0.115750596|0.113533154|0.113533154|0.0062969415|394500.0|  HPQ|    4|\n",
            "|1962-02-20| 0.1130896657705307| 0.11442013|0.113089666| 0.11397664|0.0063215387|873700.0|  HPQ|    4|\n",
            "|1962-02-16|0.11131570488214493|0.113089666| 0.11042873| 0.11264618| 0.006247748|620000.0|  HPQ|    4|\n",
            "|1962-02-05|0.11929851025342941| 0.12107246| 0.11796804| 0.11796804| 0.006542919|676400.0|  HPQ|    4|\n",
            "|1962-02-09|0.11575059592723846| 0.11663757|0.115750596|0.116194084|0.0064445287|366400.0|  HPQ|    4|\n",
            "|1962-02-28|0.11885501444339752| 0.11929851| 0.11796804| 0.11796804| 0.006542919|450900.0|  HPQ|    4|\n",
            "|1962-02-01|0.12107246369123459| 0.12284642| 0.11929851| 0.11929851| 0.006616706|535500.0|  HPQ|    4|\n",
            "|1962-02-23|0.11575059592723846| 0.11663757| 0.11486362|0.116194084|0.0064445287|704600.0|  HPQ|    4|\n",
            "|1962-02-06|0.11796803772449493|0.118411526| 0.11708106|0.118411526|0.0065675126|563700.0|  HPQ|    4|\n",
            "|1962-02-02|0.11929851025342941| 0.11929851|0.118855014| 0.11929851| 0.006616706|140900.0|  HPQ|    4|\n",
            "|1962-02-12|0.11619408428668976|0.118411526|0.115750596| 0.11708106| 0.006493727|310000.0|  HPQ|    4|\n",
            "|1962-02-21|0.11397664248943329|0.116194084|0.113533154|0.115750596|0.0064199287| 56300.0|  HPQ|    4|\n",
            "|1962-02-07|0.11841152608394623|0.118411526|0.115750596|0.115750596|0.0064199287|535500.0|  HPQ|    4|\n",
            "|1962-02-19| 0.1126461774110794| 0.11397664| 0.11264618|0.113089666| 0.006272347|591800.0|  HPQ|    4|\n",
            "|1962-02-27|0.11796803772449493| 0.11929851| 0.11796804|0.118855014| 0.006592116|676400.0|  HPQ|    4|\n",
            "|1962-02-08|0.11575059592723846| 0.11708106| 0.11530711| 0.11530711| 0.006395332|732800.0|  HPQ|    4|\n",
            "|1962-02-13|0.11708106100559235| 0.11708106| 0.11442013| 0.11442013| 0.006346139|197200.0|  HPQ|    4|\n",
            "|1962-09-18| 1.1014219280169133|   9.640625|    9.53125|    9.53125|  0.22042325| 20800.0|   ED|    2|\n",
            "+----------+-------------------+-----------+-----------+-----------+------------+--------+-----+-----+\n",
            "only showing top 20 rows\n",
            "\n"
          ]
        }
      ],
      "source": [
        "#TODO: Write your code here\n",
        "consistency_solved_df.groupby(consistency_solved_df.columns) \\\n",
        "  .count() \\\n",
        "  .where('count > 1') \\\n",
        "  .sort('count', ascending=False) \\\n",
        "  .show()"
      ]
    },
    {
      "cell_type": "code",
      "source": [
        "consistency_solved_df.groupby(['date','stock']).count().where('count>1').sort('count',ascending=False).show()"
      ],
      "metadata": {
        "colab": {
          "base_uri": "https://localhost:8080/"
        },
        "id": "fkUPgK172U1P",
        "outputId": "83edb52b-cd3f-4ed0-8268-c255225b6187"
      },
      "execution_count": null,
      "outputs": [
        {
          "output_type": "stream",
          "name": "stdout",
          "text": [
            "+----------+-----+-----+\n",
            "|      date|stock|count|\n",
            "+----------+-----+-----+\n",
            "|1962-02-09|  HPQ|    4|\n",
            "|1962-02-08|  HPQ|    4|\n",
            "|1962-02-27|  HPQ|    4|\n",
            "|1962-02-23|  HPQ|    4|\n",
            "|1962-02-02|  HPQ|    4|\n",
            "|1962-02-16|  HPQ|    4|\n",
            "|1962-02-01|  HPQ|    4|\n",
            "|1962-02-15|  HPQ|    4|\n",
            "|1962-02-13|  HPQ|    4|\n",
            "|1962-02-05|  HPQ|    4|\n",
            "|1962-02-07|  HPQ|    4|\n",
            "|1962-02-06|  HPQ|    4|\n",
            "|1962-02-26|  HPQ|    4|\n",
            "|1962-02-20|  HPQ|    4|\n",
            "|1962-02-28|  HPQ|    4|\n",
            "|1962-02-12|  HPQ|    4|\n",
            "|1962-02-14|  HPQ|    4|\n",
            "|1962-02-19|  HPQ|    4|\n",
            "|1962-02-21|  HPQ|    4|\n",
            "|1962-09-27|   ED|    2|\n",
            "+----------+-----+-----+\n",
            "only showing top 20 rows\n",
            "\n"
          ]
        }
      ]
    },
    {
      "cell_type": "code",
      "source": [
        "# drop duplicates\n",
        "parquet_df = consistency_solved_df.dropDuplicates(['date','stock'])"
      ],
      "metadata": {
        "id": "77U80ZIi2iXV"
      },
      "execution_count": null,
      "outputs": []
    },
    {
      "cell_type": "markdown",
      "metadata": {
        "id": "v6TF3PWJiNLv"
      },
      "source": [
        "## Validity\n",
        "Data is valid if it conforms to the syntax (format, type, range) of its definition.\n",
        "\n",
        "Certain values within a field may have specific criteria required to make it valid, e.g., numerical columns cannot contain alphabetical characters, which can occur due to scientific notation.\n",
        "\n",
        "This can be more difficult to determine in stings, in which case you may have to check using regex. \n",
        "\n",
        "- **Measured by**: Comparison between the data and metadata or documentation for the data item;\n",
        "- **Units**: Percentage of data items deemed Valid or Invalid;\n",
        "- **Related to**: Accuracy, Completeness, Consistency, and Uniqueness."
      ]
    },
    {
      "cell_type": "markdown",
      "metadata": {
        "id": "aN6SRUXMiNLv"
      },
      "source": [
        "We need to first define what we expect from our dataset:\n",
        "\n",
        "- stock: string (nullable = true) => Should be contained in the list of expected tickers\n",
        "- date: date (nullable = true) => Should conform to date format, and be in the past\n",
        "- open: double (nullable = true) => Should be positive or 0\n",
        "- high: double (nullable = true) => Should be positive or 0\n",
        "- low: double (nullable = true) => Should be positive or 0 (should be < high)\n",
        "- close: double (nullable = true) => Should be positive or 0 (should be <= high )\n",
        "- adj_close: double (nullable = true) => Should be positive or 0\n",
        "- volume: integer (nullable = true) => Should be positive or 0\n",
        "- high_avg: double (nullable = true) => Derived (not needed to test)\n",
        "- high_imp: double (nullable = true) => Derived (not needed to test)\n",
        "- day_of_week: string (nullable = true) => Derived (not needed to test)\n",
        "\n",
        "*Is there any other logic that we can incorporate?*"
      ]
    },
    {
      "cell_type": "markdown",
      "metadata": {
        "id": "-XcbGgOFiNLv"
      },
      "source": [
        "> ℹ️ **Instructions** ℹ️\n",
        ">\n",
        "> Use the metadata to check if all the stocks in your current dataframe are valid. In other words, make sure you have no foreign/unknown tickers in your dataframe.\n",
        ">\n",
        ">*You may use as many coding cells as necessary.*\n"
      ]
    },
    {
      "cell_type": "code",
      "execution_count": null,
      "metadata": {
        "id": "vVNGe3-DiNLv",
        "colab": {
          "base_uri": "https://localhost:8080/"
        },
        "outputId": "d4a17839-7f52-49d4-fe35-29c0172a0cb8"
      },
      "outputs": [
        {
          "output_type": "execute_result",
          "data": {
            "text/plain": [
              "[]"
            ]
          },
          "metadata": {},
          "execution_count": 72
        }
      ],
      "source": [
        "#TODO: Write your code here\n",
        "# check if there is any stock that is not contained in the metadata\n",
        "list(set(parquet_df.select('stock').rdd.flatMap(lambda x:x).collect())-set(symbols_valid_metadata_df.select('Symbol').rdd.flatMap(lambda x:x).collect()))"
      ]
    },
    {
      "cell_type": "markdown",
      "source": [
        "1. All stocks in the dataframe are valid. There are no unknown tickers in the dataframe"
      ],
      "metadata": {
        "id": "rRqgJ5-wA6UM"
      }
    },
    {
      "cell_type": "markdown",
      "metadata": {
        "id": "RgeKo_NdiNLv"
      },
      "source": [
        "> ℹ️ **Instructions** ℹ️\n",
        ">\n",
        ">\n",
        ">Check if the date column contains only valid dates and all dates are in the past.\n",
        ">\n",
        ">*Valid dates should already be checked in the data reading step.*"
      ]
    },
    {
      "cell_type": "code",
      "execution_count": null,
      "metadata": {
        "id": "0AeVI474iNLw",
        "colab": {
          "base_uri": "https://localhost:8080/"
        },
        "outputId": "be08182e-1986-4129-968e-5ca73bc4a38e"
      },
      "outputs": [
        {
          "output_type": "stream",
          "name": "stdout",
          "text": [
            "+----+----+----+---+-----+---------+------+-----+\n",
            "|date|open|high|low|close|adj_close|volume|stock|\n",
            "+----+----+----+---+-----+---------+------+-----+\n",
            "+----+----+----+---+-----+---------+------+-----+\n",
            "\n"
          ]
        }
      ],
      "source": [
        "#TODO: Write your code here\n",
        "#  Check if date is in valid format valid format\n",
        "parquet_df.createOrReplaceTempView(\"parquet_df\")\n",
        "spark.sql(\"select * from parquet_df where date not like '%-%-%'\").show()"
      ]
    },
    {
      "cell_type": "code",
      "source": [
        "#  Checking for presence of null values in the date column\n",
        "parquet_df.filter((F.col('date')).isNull()).show()"
      ],
      "metadata": {
        "colab": {
          "base_uri": "https://localhost:8080/"
        },
        "id": "c5aneTLft2V6",
        "outputId": "864ecd3b-4b19-476f-bab5-c0ef4342d0bc"
      },
      "execution_count": null,
      "outputs": [
        {
          "output_type": "stream",
          "name": "stdout",
          "text": [
            "+----+----+----+---+-----+---------+------+-----+\n",
            "|date|open|high|low|close|adj_close|volume|stock|\n",
            "+----+----+----+---+-----+---------+------+-----+\n",
            "+----+----+----+---+-----+---------+------+-----+\n",
            "\n"
          ]
        }
      ]
    },
    {
      "cell_type": "code",
      "source": [
        "# Checking for maximum and minimum dates\n",
        "parquet_df.agg(F.min('date'), F.max('date')).show()"
      ],
      "metadata": {
        "colab": {
          "base_uri": "https://localhost:8080/"
        },
        "id": "SwUpDgEauF-M",
        "outputId": "999365f4-3c59-47a0-88df-1b4ca7bbf3e4"
      },
      "execution_count": null,
      "outputs": [
        {
          "output_type": "stream",
          "name": "stdout",
          "text": [
            "+----------+----------+\n",
            "| min(date)| max(date)|\n",
            "+----------+----------+\n",
            "|1962-01-02|1962-12-31|\n",
            "+----------+----------+\n",
            "\n"
          ]
        }
      ]
    },
    {
      "cell_type": "markdown",
      "source": [
        "1. All dates are in the past and of valid format"
      ],
      "metadata": {
        "id": "dNlx_xi8BMpO"
      }
    },
    {
      "cell_type": "markdown",
      "metadata": {
        "id": "2PGOW6YRiNLw"
      },
      "source": [
        "> ℹ️ **Instructions** ℹ️\n",
        ">\n",
        ">Check that all of numerical columns are positive."
      ]
    },
    {
      "cell_type": "code",
      "source": [
        "#Extract numerical columns\n",
        "numerical_columns_df = parquet_pandas.iloc[:,1:-1]\n",
        "numerical_columns_df.head()"
      ],
      "metadata": {
        "colab": {
          "base_uri": "https://localhost:8080/",
          "height": 206
        },
        "id": "tdzvO7mOz8b_",
        "outputId": "5bd510ea-4724-4ecb-b339-3391b0c87cd3"
      },
      "execution_count": null,
      "outputs": [
        {
          "output_type": "execute_result",
          "data": {
            "text/plain": [
              "       open      high        low     close  adj_close    volume\n",
              "0  5.839290  5.907375   5.839290  5.863320   1.386329   29900.0\n",
              "1  5.481634  5.528486   5.481634  5.516773   1.280453   32000.0\n",
              "2  0.907407  0.915638   0.899177  0.903292   0.161415  619400.0\n",
              "3  1.677083  1.692708   1.661458  1.677083   0.144059  170400.0\n",
              "4  0.000000  3.578869  20.000000  3.549107   0.056501  273600.0"
            ],
            "text/html": [
              "\n",
              "  <div id=\"df-c39ffba3-b66a-4832-9aaf-8df28986a164\">\n",
              "    <div class=\"colab-df-container\">\n",
              "      <div>\n",
              "<style scoped>\n",
              "    .dataframe tbody tr th:only-of-type {\n",
              "        vertical-align: middle;\n",
              "    }\n",
              "\n",
              "    .dataframe tbody tr th {\n",
              "        vertical-align: top;\n",
              "    }\n",
              "\n",
              "    .dataframe thead th {\n",
              "        text-align: right;\n",
              "    }\n",
              "</style>\n",
              "<table border=\"1\" class=\"dataframe\">\n",
              "  <thead>\n",
              "    <tr style=\"text-align: right;\">\n",
              "      <th></th>\n",
              "      <th>open</th>\n",
              "      <th>high</th>\n",
              "      <th>low</th>\n",
              "      <th>close</th>\n",
              "      <th>adj_close</th>\n",
              "      <th>volume</th>\n",
              "    </tr>\n",
              "  </thead>\n",
              "  <tbody>\n",
              "    <tr>\n",
              "      <th>0</th>\n",
              "      <td>5.839290</td>\n",
              "      <td>5.907375</td>\n",
              "      <td>5.839290</td>\n",
              "      <td>5.863320</td>\n",
              "      <td>1.386329</td>\n",
              "      <td>29900.0</td>\n",
              "    </tr>\n",
              "    <tr>\n",
              "      <th>1</th>\n",
              "      <td>5.481634</td>\n",
              "      <td>5.528486</td>\n",
              "      <td>5.481634</td>\n",
              "      <td>5.516773</td>\n",
              "      <td>1.280453</td>\n",
              "      <td>32000.0</td>\n",
              "    </tr>\n",
              "    <tr>\n",
              "      <th>2</th>\n",
              "      <td>0.907407</td>\n",
              "      <td>0.915638</td>\n",
              "      <td>0.899177</td>\n",
              "      <td>0.903292</td>\n",
              "      <td>0.161415</td>\n",
              "      <td>619400.0</td>\n",
              "    </tr>\n",
              "    <tr>\n",
              "      <th>3</th>\n",
              "      <td>1.677083</td>\n",
              "      <td>1.692708</td>\n",
              "      <td>1.661458</td>\n",
              "      <td>1.677083</td>\n",
              "      <td>0.144059</td>\n",
              "      <td>170400.0</td>\n",
              "    </tr>\n",
              "    <tr>\n",
              "      <th>4</th>\n",
              "      <td>0.000000</td>\n",
              "      <td>3.578869</td>\n",
              "      <td>20.000000</td>\n",
              "      <td>3.549107</td>\n",
              "      <td>0.056501</td>\n",
              "      <td>273600.0</td>\n",
              "    </tr>\n",
              "  </tbody>\n",
              "</table>\n",
              "</div>\n",
              "      <button class=\"colab-df-convert\" onclick=\"convertToInteractive('df-c39ffba3-b66a-4832-9aaf-8df28986a164')\"\n",
              "              title=\"Convert this dataframe to an interactive table.\"\n",
              "              style=\"display:none;\">\n",
              "        \n",
              "  <svg xmlns=\"http://www.w3.org/2000/svg\" height=\"24px\"viewBox=\"0 0 24 24\"\n",
              "       width=\"24px\">\n",
              "    <path d=\"M0 0h24v24H0V0z\" fill=\"none\"/>\n",
              "    <path d=\"M18.56 5.44l.94 2.06.94-2.06 2.06-.94-2.06-.94-.94-2.06-.94 2.06-2.06.94zm-11 1L8.5 8.5l.94-2.06 2.06-.94-2.06-.94L8.5 2.5l-.94 2.06-2.06.94zm10 10l.94 2.06.94-2.06 2.06-.94-2.06-.94-.94-2.06-.94 2.06-2.06.94z\"/><path d=\"M17.41 7.96l-1.37-1.37c-.4-.4-.92-.59-1.43-.59-.52 0-1.04.2-1.43.59L10.3 9.45l-7.72 7.72c-.78.78-.78 2.05 0 2.83L4 21.41c.39.39.9.59 1.41.59.51 0 1.02-.2 1.41-.59l7.78-7.78 2.81-2.81c.8-.78.8-2.07 0-2.86zM5.41 20L4 18.59l7.72-7.72 1.47 1.35L5.41 20z\"/>\n",
              "  </svg>\n",
              "      </button>\n",
              "      \n",
              "  <style>\n",
              "    .colab-df-container {\n",
              "      display:flex;\n",
              "      flex-wrap:wrap;\n",
              "      gap: 12px;\n",
              "    }\n",
              "\n",
              "    .colab-df-convert {\n",
              "      background-color: #E8F0FE;\n",
              "      border: none;\n",
              "      border-radius: 50%;\n",
              "      cursor: pointer;\n",
              "      display: none;\n",
              "      fill: #1967D2;\n",
              "      height: 32px;\n",
              "      padding: 0 0 0 0;\n",
              "      width: 32px;\n",
              "    }\n",
              "\n",
              "    .colab-df-convert:hover {\n",
              "      background-color: #E2EBFA;\n",
              "      box-shadow: 0px 1px 2px rgba(60, 64, 67, 0.3), 0px 1px 3px 1px rgba(60, 64, 67, 0.15);\n",
              "      fill: #174EA6;\n",
              "    }\n",
              "\n",
              "    [theme=dark] .colab-df-convert {\n",
              "      background-color: #3B4455;\n",
              "      fill: #D2E3FC;\n",
              "    }\n",
              "\n",
              "    [theme=dark] .colab-df-convert:hover {\n",
              "      background-color: #434B5C;\n",
              "      box-shadow: 0px 1px 3px 1px rgba(0, 0, 0, 0.15);\n",
              "      filter: drop-shadow(0px 1px 2px rgba(0, 0, 0, 0.3));\n",
              "      fill: #FFFFFF;\n",
              "    }\n",
              "  </style>\n",
              "\n",
              "      <script>\n",
              "        const buttonEl =\n",
              "          document.querySelector('#df-c39ffba3-b66a-4832-9aaf-8df28986a164 button.colab-df-convert');\n",
              "        buttonEl.style.display =\n",
              "          google.colab.kernel.accessAllowed ? 'block' : 'none';\n",
              "\n",
              "        async function convertToInteractive(key) {\n",
              "          const element = document.querySelector('#df-c39ffba3-b66a-4832-9aaf-8df28986a164');\n",
              "          const dataTable =\n",
              "            await google.colab.kernel.invokeFunction('convertToInteractive',\n",
              "                                                     [key], {});\n",
              "          if (!dataTable) return;\n",
              "\n",
              "          const docLinkHtml = 'Like what you see? Visit the ' +\n",
              "            '<a target=\"_blank\" href=https://colab.research.google.com/notebooks/data_table.ipynb>data table notebook</a>'\n",
              "            + ' to learn more about interactive tables.';\n",
              "          element.innerHTML = '';\n",
              "          dataTable['output_type'] = 'display_data';\n",
              "          await google.colab.output.renderOutput(dataTable, element);\n",
              "          const docLink = document.createElement('div');\n",
              "          docLink.innerHTML = docLinkHtml;\n",
              "          element.appendChild(docLink);\n",
              "        }\n",
              "      </script>\n",
              "    </div>\n",
              "  </div>\n",
              "  "
            ]
          },
          "metadata": {},
          "execution_count": 58
        }
      ]
    },
    {
      "cell_type": "code",
      "execution_count": null,
      "metadata": {
        "id": "FyZpqCAbiNLw",
        "colab": {
          "base_uri": "https://localhost:8080/"
        },
        "outputId": "6cc58bd4-b745-47b4-e5ef-4d73cb596798"
      },
      "outputs": [
        {
          "output_type": "stream",
          "name": "stdout",
          "text": [
            "Checking for negative values in open\n",
            "+----+----+----+---+-----+---------+------+-----+\n",
            "|date|open|high|low|close|adj_close|volume|stock|\n",
            "+----+----+----+---+-----+---------+------+-----+\n",
            "+----+----+----+---+-----+---------+------+-----+\n",
            "\n",
            "Checking for negative values in high\n",
            "+----+----+----+---+-----+---------+------+-----+\n",
            "|date|open|high|low|close|adj_close|volume|stock|\n",
            "+----+----+----+---+-----+---------+------+-----+\n",
            "+----+----+----+---+-----+---------+------+-----+\n",
            "\n",
            "Checking for negative values in low\n",
            "+----+----+----+---+-----+---------+------+-----+\n",
            "|date|open|high|low|close|adj_close|volume|stock|\n",
            "+----+----+----+---+-----+---------+------+-----+\n",
            "+----+----+----+---+-----+---------+------+-----+\n",
            "\n",
            "Checking for negative values in close\n",
            "+----+----+----+---+-----+---------+------+-----+\n",
            "|date|open|high|low|close|adj_close|volume|stock|\n",
            "+----+----+----+---+-----+---------+------+-----+\n",
            "+----+----+----+---+-----+---------+------+-----+\n",
            "\n",
            "Checking for negative values in adj_close\n",
            "+----+----+----+---+-----+---------+------+-----+\n",
            "|date|open|high|low|close|adj_close|volume|stock|\n",
            "+----+----+----+---+-----+---------+------+-----+\n",
            "+----+----+----+---+-----+---------+------+-----+\n",
            "\n",
            "Checking for negative values in volume\n",
            "+----+----+----+---+-----+---------+------+-----+\n",
            "|date|open|high|low|close|adj_close|volume|stock|\n",
            "+----+----+----+---+-----+---------+------+-----+\n",
            "+----+----+----+---+-----+---------+------+-----+\n",
            "\n"
          ]
        }
      ],
      "source": [
        "#TODO: Write your code here\n",
        "# Check if numerical columns are positive\n",
        "missing_count = {}  \n",
        "df1= parquet_df.select('open','high','low','close','adj_close','volume')\n",
        "for i in numerical_columns_df:\n",
        "  print(f'Checking for negative values in {i}')\n",
        "  parquet_df.filter(F.col(i)<0).show()"
      ]
    },
    {
      "cell_type": "markdown",
      "source": [
        "1. All numerical columns have positive values"
      ],
      "metadata": {
        "id": "UgG4xmwr0-Qx"
      }
    },
    {
      "cell_type": "markdown",
      "metadata": {
        "id": "mCw21U11iNLw"
      },
      "source": [
        "### Save Updates\n",
        "\n",
        "With our initial work of checking the various dimensions of the data quality completed, we can now save these results to a CSV file.  "
      ]
    },
    {
      "cell_type": "code",
      "execution_count": null,
      "metadata": {
        "id": "Vda1QOKdiNLx"
      },
      "outputs": [],
      "source": [
        "pd_df = parquet_df.toPandas()"
      ]
    },
    {
      "cell_type": "code",
      "execution_count": null,
      "metadata": {
        "id": "Lb4l2x44iNLx"
      },
      "outputs": [],
      "source": [
        "pd_df.to_csv('/content/drive/MyDrive/darlington_maposa_data_profiling.csv')"
      ]
    }
  ],
  "metadata": {
    "interpreter": {
      "hash": "24a0a2ddc4dffcb168e507551dd24967ddc40ea2df7a72a200a74e0ae6d88beb"
    },
    "kernelspec": {
      "display_name": "Python 3",
      "language": "python",
      "name": "python3"
    },
    "language_info": {
      "codemirror_mode": {
        "name": "ipython",
        "version": 3
      },
      "file_extension": ".py",
      "mimetype": "text/x-python",
      "name": "python",
      "nbconvert_exporter": "python",
      "pygments_lexer": "ipython3",
      "version": "3.7.6"
    },
    "colab": {
      "provenance": [],
      "collapsed_sections": [
        "fn58EYIRiNLf",
        "aOwQC3FRiNLg",
        "DUQimwImiNLi",
        "aYeLNVOgiNLl",
        "XSQL8AkPiNLn",
        "wm_Jy6bliNLr",
        "24O1LRgXiNLr",
        "CFTnuo-xiNLu",
        "v6TF3PWJiNLv"
      ]
    }
  },
  "nbformat": 4,
  "nbformat_minor": 0
}